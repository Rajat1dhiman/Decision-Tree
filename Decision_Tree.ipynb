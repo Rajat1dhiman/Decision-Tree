{
  "nbformat": 4,
  "nbformat_minor": 0,
  "metadata": {
    "colab": {
      "provenance": [],
      "collapsed_sections": [
        "vZXyRrePefbc",
        "q_Ne-xvha5V5",
        "OAwjQBp8dLkF",
        "FkQqjH-pDbbg",
        "VB4Pkq_eFwYU",
        "hDDW1TmyIPFU",
        "hvvyhY9dLnBt",
        "QVAGyiM9OWfg",
        "dOldi9cgQGJr",
        "aOmMMQNfSGHf",
        "37UxdKW8Uqod",
        "tND3dWzwWL2u",
        "F-Wwb3ZCWoB3",
        "iVHwyrb_YERU",
        "UTgfWvdTZID0",
        "iVXYGGC4bAgH",
        "mYRV0QzddtxK",
        "GZZ-4JhFd8yV",
        "n_Co49_idiqy",
        "Ursjrh95ez1Y",
        "VMsQTNFwgeO-",
        "uiplY0lRgxK8",
        "TR7wkKkyiN6L",
        "BBxhocxsjJNy",
        "wTGZ4lYAkT2m",
        "duLhMg5SlBDh",
        "XUdl1w4tlY__",
        "7fjZl5U3nFPo",
        "F2atkOKInhox",
        "hUzynX6jn6WH",
        "c9Ro7TRKpIkx",
        "06uTumaKrl9V"
      ]
    },
    "kernelspec": {
      "name": "python3",
      "display_name": "Python 3"
    },
    "language_info": {
      "name": "python"
    }
  },
  "cells": [
    {
      "cell_type": "markdown",
      "source": [
        "# ***Theory Question***"
      ],
      "metadata": {
        "id": "vZXyRrePefbc"
      }
    },
    {
      "cell_type": "markdown",
      "source": [
        "## **Q1.What is a Decision Tree, and how does it work?**\n",
        "\n",
        "\n"
      ],
      "metadata": {
        "id": "q_Ne-xvha5V5"
      }
    },
    {
      "cell_type": "markdown",
      "source": [
        "A Decision Tree breaks down a dataset into smaller subsets while simultaneously developing an associated decision tree. It consists of:\n",
        "\n",
        "* **Root Node:** The first feature that best splits the data.\n",
        "\n",
        "* **Decision Nodes:** Internal nodes where decisions are made based on feature values.\n",
        "\n",
        "* **Leaf Nodes (Terminal nodes):** Final output/class label (in classification) or a value (in regression).\n",
        "\n",
        "* **Branches:** Represent the outcome of a decision."
      ],
      "metadata": {
        "id": "iOgVTPyHbFol"
      }
    },
    {
      "cell_type": "markdown",
      "source": [
        "**how does it work?**\n",
        "\n",
        "1. **Select the Best Feature to Split:**\n",
        "\n",
        "* The algorithm chooses the feature that best separates the data based on a splitting criterion.\n",
        "\n",
        "* Common criteria:\n",
        "\n",
        " * Gini Impurity\n",
        "\n",
        " * Entropy / Information Gain\n",
        "\n",
        " * Mean Squared Error (for regression)\n",
        "\n",
        "2. **Create a Decision Node:**\n",
        "\n",
        "* A condition (e.g., \"Age > 30?\") is placed at the node.\n",
        "\n",
        "3. **Split the Dataset:**\n",
        "\n",
        "* Based on the decision, the dataset is split into two or more subsets.\n",
        "\n",
        "4. **Repeat Recursively:**\n",
        "\n",
        "* The above steps are repeated for each subset until:\n",
        "\n",
        "* A stopping condition is met (e.g., max depth, min samples),\n",
        "\n",
        "* Or all data points in a subset belong to the same class.\n",
        "\n",
        "5. **Output the Result:**\n",
        "\n",
        "* At the leaves, the most common class (for classification) or average value (for regression) is returned.\n"
      ],
      "metadata": {
        "id": "-2IjWPlubm4_"
      }
    },
    {
      "cell_type": "markdown",
      "source": [
        "**Example (Classification)**\n",
        "\n",
        "Imagine a dataset of customers to predict whether they will buy a product:\n",
        "\n",
        "| Age | Income | Buys |\n",
        "| --- | ------ | ---- |\n",
        "| 25  | High   | No   |\n",
        "| 35  | Medium | Yes  |\n",
        "| 45  | Low    | Yes  |\n",
        "\n",
        "The tree might look like:\n",
        "\n",
        "           [Age <= 30?]\n",
        "           /         \\\n",
        "        Yes           No\n",
        "      [Buys: No]   [Income?]\n",
        "                    /      \\\n",
        "                High     Low/Med\n",
        "                [No]      [Yes]\n",
        "\n"
      ],
      "metadata": {
        "id": "gzSUn0Jjcsfs"
      }
    },
    {
      "cell_type": "markdown",
      "source": [
        "## **Q2. What are impurity measures in Decision Trees?**\n"
      ],
      "metadata": {
        "id": "OAwjQBp8dLkF"
      }
    },
    {
      "cell_type": "markdown",
      "source": [
        "Impurity measures in Decision Trees are metrics used to quantify how mixed or \"impure\" a set of data is, based on the class labels. These measures help determine the best feature and threshold to split the data at each node in the tree. The goal is to reduce impurity with each split—ideally leading to groups (nodes) where all data points belong to a single class (pure nodes).\n",
        "\n",
        "\n",
        "**Common Impurity Measures:**\n",
        "\n",
        "**1. Gini Impurity**\n",
        "\n",
        "* Measures the probability of misclassifying a randomly chosen element.\n",
        "\n",
        "* Formula:\n",
        "\n",
        "![Screenshot 2025-05-30 215808.png](data:image/png;base64,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)\n",
        "\n",
        "  where 𝑝𝑖 is the proportion of class 𝑖 in the node.\n",
        "\n",
        "* Ranges from 0 (pure) to a maximum of (1−1/n) when classes are equally distributed."
      ],
      "metadata": {
        "id": "031ZY2srBDjF"
      }
    },
    {
      "cell_type": "markdown",
      "source": [
        "**2. Entropy (Information Gain)**\n",
        "\n",
        "* Measures the amount of information disorder or randomness.\n",
        "\n",
        "* Formula:\n",
        "\n",
        "![Screenshot 2025-05-30 220224.png](data:image/png;base64,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)\n",
        "\n",
        "* Also ranges from 0 (pure) to log₂(n) for n classes equally represented.\n",
        "\n",
        "* Information Gain: The reduction in entropy after a dataset is split.\n",
        "\n",
        "![Screenshot 2025-05-30 220356.png](data:image/png;base64,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)"
      ],
      "metadata": {
        "id": "4TjO17TMByw9"
      }
    },
    {
      "cell_type": "markdown",
      "source": [
        "**3. Classification Error**\n",
        "\n",
        "* A simpler impurity metric used occasionally.\n",
        "\n",
        "* Formula:\n",
        "\n",
        "![Screenshot 2025-05-30 220547.png](data:image/png;base64,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)\n",
        "\n",
        "where 𝑝𝑖 is the proportion of the majority class.\n",
        "\n",
        "* Less sensitive to changes in class distribution than Gini or Entropy.\n",
        "\n"
      ],
      "metadata": {
        "id": "o8fGj9lAC8-H"
      }
    },
    {
      "cell_type": "markdown",
      "source": [
        "## **Q3.What is the mathematical formula for Gini Impurity?**"
      ],
      "metadata": {
        "id": "FkQqjH-pDbbg"
      }
    },
    {
      "cell_type": "markdown",
      "source": [
        "The mathematical formula for Gini Impurity at a node is:\n",
        "\n",
        "![Screenshot 2025-05-30 221326.png](data:image/png;base64,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)"
      ],
      "metadata": {
        "id": "kpkrr4wyDnHJ"
      }
    },
    {
      "cell_type": "markdown",
      "source": [
        "where:\n",
        "D is the dataset at the current node.\n",
        "\n",
        "𝐶 is the number of classes.\n",
        "\n",
        "𝑝𝑖 is the proportion (probability) of instances belonging to class 𝑖 in the dataset 𝐷.\n",
        "\n",
        "**Example:**\n",
        "\n",
        "If a node has 10 samples:\n",
        "\n",
        "* 4 belong to class A\n",
        "\n",
        "* 6 belong to class B\n",
        "\n",
        "Then:\n",
        "\n",
        "𝑝\n",
        "𝐴\n",
        "=\n",
        "4/10\n",
        "=\n",
        "0.4\n",
        "\n",
        "𝑝\n",
        "𝐵\n",
        "=\n",
        "6/10\n",
        "=\n",
        "0.6\n",
        "\n",
        "Gini\n",
        "=\n",
        "1\n",
        "−\n",
        "(\n",
        "0.4\n",
        "2\n",
        "+\n",
        "0.6\n",
        "2\n",
        ")\n",
        "=\n",
        "1\n",
        "−\n",
        "(\n",
        "0.16\n",
        "+\n",
        "0.36\n",
        ")\n",
        "=\n",
        "1\n",
        "−\n",
        "0.52\n",
        "=\n",
        "0.48\n",
        "\n",
        "A lower Gini means a purer node. A Gini Impurity of 0 means all samples belong to one class."
      ],
      "metadata": {
        "id": "v_9N_ZYUFFni"
      }
    },
    {
      "cell_type": "markdown",
      "source": [
        "## **Q4.What is the mathematical formula for Entropy?**"
      ],
      "metadata": {
        "id": "VB4Pkq_eFwYU"
      }
    },
    {
      "cell_type": "markdown",
      "source": [
        "The mathematical formula for Entropy in the context of decision trees is:\n",
        "\n",
        "![Screenshot 2025-05-30 221824.png](data:image/png;base64,iVBORw0KGgoAAAANSUhEUgAAAewAAACYCAYAAAAm7toDAAAAAXNSR0IArs4c6QAAAARnQU1BAACxjwv8YQUAAAAJcEhZcwAAEnQAABJ0Ad5mH3gAAACbaVRYdFNuaXBNZXRhZGF0YQAAAAAAeyJjbGlwUG9pbnRzIjpbeyJ4IjotMTA0OC41OTExLCJ5IjotNDQwLjk1MDMyfSx7IngiOjg3MS40MDg5NCwieSI6LTQ0MC45NTAzMn0seyJ4Ijo4NzEuNDA4OTQsInkiOjYzOS4wNDk3fSx7IngiOi0xMDQ4LjU5MTEsInkiOjYzOS4wNDk3fV19Xj8f8gAAHgFJREFUeF7t3Q9QlGeeJ/DvXFmVvnJMJ5vCtiYocy6EJKNibgR3cgibqFjWANkEMLnIkkQiuQQ1mxGdMQw7GRmqdoKZUjC7A9EkdJidCTiTobHi0SaXNG6ZA3JRNDG2lA5txl3aGufoXCx6KlS997zv+zR2N91NN3S3vvL9VL36vm83/eft93l/z/O8z59vKAKIiIjohvaf5P9ERER0A2PAJiIiMgAGbCIiIgNgwCYiIjIABmwiIiIDYMAmIiIyAAZsIiIiA2DAJiIiMgAGbCIiIgNgwCYiIjIABmwiIiIDYMAmIiIyAAZsIiIiA2DAJiIiMgAGbCIiIgNgwCYiIjIABmwiIiIDYMAmIiIyAAZsIiIiA2DAJiIiMgAGbCIiIgNgwCYiIjIABmwiIiIDYMAmIiIyAAZsIiIiA2DAJiIiMgAGbCIiIgNgwCaiG4LX48LgURts79gxeMkr9woeJ5xX5DrRLMaATUTXleejZpTfcyvmZ5SjvrsPritOdPxgLZaWWEWgtqNySQ36xuWTiWaxbyiCXCciSp5xNzorc1H5jgkVbYex5+E0mORDKs+hUizcZAfuqsPAxzuQKfcTzVYsYRNR8o070bwuQwTrBWj4+DT2BwVrlbl0J6rETtMD+QzWRAIDNhElXf+uNagdMKHsV4ex9S65cxIL0hYDRXk5cptodmPAJqLkOlGPyhYPcG8d/rHILHeGk498xmsiDe9hE1ESedG5cT4qu4GC1y/jUGlwRXgg7xUR2O8wT6ouJ5qNWMImouQZ78X/FMFaLTkXr5o6DJsYrIkmMGATUfJcdOKU+r8lB1kWbQ8RRYkBm4iS747bcJtcDce+oxKdHrlBRAzYRJRElgVIk6sReTphPZePvKnapBHNIgzYRJQ8c/NQ/ID4/0wXei7puybzwLbDipWNFWCtOdE1DNhElEQWVDQ2IAv9qN/ZCXfwkKNeF6xPFML+cHuE/tlEsxO7dRFR0nnPtKL8oRrYPVkoqNyAR3NuwdnubtjOp6HujT0oXsy24UTBGLCJ6DrxwnOmDw6n2rLMjMy8lci8g4GaKBwGbCIiIgPgPWwiIiIDYMAmIiIyAAZsIiIiA2DAJiIiMgAGbCIiIgNgwCYiIjIAdusiohkZfHMLXvtEblwXFhT/sA4Fd8pNopsUAzYRzUj/roVY82rQtFqWHFSsv1tuxGoMruO9OHtVbn7lhnuKWbvSfjiA07WZcovo5sSATUQzM+5EY2426s/IbU0adjhOo+4+uTljXnjcbgyf6oHtwFtoPToIj/845KYqdP/7HuTPkdtENyEGbCKauXPNWLWiFoNyU2Muw6FPD6IgEVNkjnvh7K5H9c5m9Lv1XcWvX0Z7KYc2pZsXAzYRxYX7zSJkbHPILZ35sUP4tLUACZvWetwD+65clLa4gOw9GHq/ilNy0k2LrcTJuEQpy3PFKzcSy+txw5OctzIsy5PtOPRYYGj2/KYU5W/KInAizDGjoPE0BpryYR5oRmtAtTzFQzLOfaav6DBgkzF5+lG/bimqP5iiNVKc/OX4i1ixdAtsV+QOCkENngdRFlScdmwrRfM5uZEgmU9247fPjKL5QGAJn2bGfagcSx9phfMvckeCMH1Fh1XiU/Cec8D+2XSDQhpWPpzFKrp4G3eieXU2Xs55D1805sidk3nO2OFwRplt/6b4re4Xv9VcuR2Cc98qZO+5K3H3ZW8WH9Vg4bpWBKSaRTtw7GQdshLZKOyqHZV3NyP/f3ej4rp18XJj8J0u2D44JdbUzUGY/8cxNDygPWgoniOVWPLoZTR8npzjyfQ1NQbsKbgOlGLNK31wX5octM13WuDfxMVzyY3A8FCG9j8fRDFbrsaRF/bnMlDaWzVFAPCgc9MKvPiRWL3ihtv3w8wxw2IJapjk97hlbQN+9fpW5IS8YLhhLczAlv/XgNOOrSI7RuFoF9+6gCZoib+ffUNwoPaep2F1uydasZe9/SUOrtfXDeNCM1Ytr4Xl9S9wqDRZvxjT15TUgE3RGFO6KuYp8+apywql6bzcHWxsRDn5VrWyZKrnTddgm1L9xkm5MQsd366kzktRNr07JndE4d1N8nebp1Tb5b4gY+d7lBcflL9v6ialZ1Q+EOyz3dpvW/jGiNxBIX19VmnKk8dzYkkVv1u4A3uT+fpDZXuK/r03vSv3GcaI0vZ98dlXNinDck/SMH1FxHvYUTPBdItcjcRkQVb5fgy8XSb+wgnnebk/TrznbLAeT2AjnhuaG60/boVn0VbsXB99953B/l65VoD8++VqENPiAjT0DKBB7Tfs6URpVWdgla7PvTvwj0WiHLWzEQ7/fsAUaE4mttoOiiPuz4POR8thvSQ3b2Zzvo20xXLdaHobUSOSTHHN5uSXcpm+ImLAThDT+p3YuggYiXPTx1N9vuAzC51pRfMAkLm5AtGPaeXG4IDM4OQVIy/CPWotyNRX6bc5juxGU8gWxyYUPVwsck6t2NM+WzNOUTKX4aDIuAZWqDqw5fFmOHkxvkF50dnSKv4tQ8XfXY8+7UxfkTBgx43a2MQBp284RRFS1olSoOtSHE+6cQc62uKbATCS/jea4RLHdcP6GPL9431wyDyOJTuKBoDfXYk8bcUF+wcubS2Yaf1DWsnR8VaX+NUpEvP6V3GwPOge6IlalO9zyg26obg7YO0W/5eKc/w6tb1h+gqPATtuBtH0RA3sfmeY5duZcH4WvwuT89Ufo3XWxutB9PxefHlTPvLvkruiMdAL9fqj5twfKsjS1iKaa54oEQ4Ohvnt5uahWI3qA93o4RVlCiYUNL2HunvlpuT86RpsOTp7M58J4fXArTZ2m8Fh9R6zQe0Yl5+3Ut9xPTB9hcWAHS+XhkWZLFBa5WEMNerlNZyyYsujq5BxT4a2LFytlhYBz0etqMwX2391K26dn4HswnrYg/oiuk90or5EPOZrdXu8GVu2bZlYrKf03e6jjagszJbvsRC3VtnF57Jhi/r6CxciI38LbJPuH3rheqcWRcvn49ZbxWdQl79aiFVVregP+hzqrEyl4rUCXv/KIKwNpVilfifxHRbek42iXTa4Ai4a4jl+n/faYp0YylL97IGPNQZkfnCxV99+YCWW6Xui4jzukC3387Aymj90j+CyXA3PgqxstazuQL889hTBnEzssDYgMLvkgXVTNezJ6UZ/zbgT1o0Z2nm+cEU5rLJ/uPuDepTLNDB/eTmaP0r8B/NesKG2cCnm+9Kd+pnyK9Ea4b0DrhcinWYX1or070R/wxrMX5SBpRnisRX1mG4xofd/iTQtzu+crAh1UQk/hkxf4TBgT9Oo2hVI5Ga15Ywd9c/Vo18+NsFkhsXsdx/IYsEC9e8uiVzwVS8G963Cin/6Cyre+hif/uELDLycBVdvI0qXb4F9omodGBl0wH3nOhQvm/qe0n+ev0CkHPU9RGK58jYq/7YRlvpfYdtikfs+YUX5M9Zr1UzjHtieW4qlT9iQ9pNjuPznL/Hll1/i8uftKDhfgzUZayYNeLFgwQKt+5r2+keqkZFRDvs3q3Dgw3/DxyePoS5nFI5Xy8WFoxydwZkDdx+sb1r15chZjMndOjf62uVj7V0YDM5Zf3ZSC+6mRWn6PeaoiNf8QF66prp/7XPhFPrkKiJUCS5I02ei6jsTutqcgty1FYea8uWG5OlE+Qu20I37EmRQZC5r576CL/6wHyvPiczs6krU7xBpYIcbG/51CJcvD6GzyInadUtQeSRxn8zTvQVLRVCzLWrAsf/Q092X4r3bC1yoWafOfjY55Kpd5Rauq4E9tQ7vDX2BL4beQ923xHfIzcaajzbg9L8P6JOtXBzEKb/rR/RccGrTpN6NtG9pO0JKxjFk+gpDthanKPRs9u+iEmqJohuXXxejeXlNytmv5X7NWeXl7+qPlXRO7rY0vHeF/nebe+Se0MY6SybeY/Uv1e4RI0pbsXzPxzsU3yuffGmJ33OCfNWjbNK6pZQoHUE9cU6+lK6/VupGpeOPcucE2SVEffw7u5WTAd9vTOl4XD7m9zkm2MSxSdmkdIXo+eP77iv2xtDR5OsuZZP6XmJJfym6rnDD+3P1zyeW3P0R3sv3O07xWwTqU15Mld9/Jkv6i4oxO/aNijSUOun7RDzO8fRVh7JRnM9t2vklzm/5/infbwlMh64mJVd9LGW7+MWma1hpWqm//qRuXZ/oXZfmPdgiUkuwMXGMUrS/K+n0Swiyu9O8eZuUHv/P+rXveyxRdn8mtr8aVUZGY+jyGMD3WuI95J5JknUMp5W+bn4sYU9LJhpOihzxny+LXO4Qhj49hj1FUQ4u8Nd3yxbOJlTVb0VmQCnOBJPcnkljNdNc32cpwDPlatWSBRVvf4EhkSu/3KZ2NxMuNOPpV9Tcq+85QeaK/U+oz7Sj+qeBwz3edttt+sr6CpRNGgFJvNfLO/TuIBcb8ePf+H8PE8rKy/TV7i50B5UCHB90I+35nSgOcShHR0e1/5ctjqHBWaz3r+FFf6+vkt6CgvsjvNeCb4tnxCoHdZ+K80U9Z2ayfFwXVL1sFKGHLh3cVZ7woUtV3iNdsK1/FBvU9z8nSqHa3gLs+VVVYDq8Y4H+23od6Lug7dGNu2FrqA9xWykWLjQ/26jdDit4tiLEOWRCwVMVWhq1P1c/0bXJecSm33K7d3ngZ52TieVa+wAXbEfFM0TaD6jVi8VVj17bcZcoYWs7JkvaMZxW+rr5MWDPxBwTzBYLLIuyUPWLBgRV+GncJ2xwXPC7oSv+RpeHld+Vq4liycJdvmpgtXreYp7IEDh/3Srvcy2AOUxVsSVVT7beA1bYY+mGc28xNsjU5ujulfeQpbUVqNIOgQ0t/t02xu2wHkhD1X8P3WFLvY2g8b8oTGHQ3hXb/eur3eg6ItcXVWBDpLmczbdBy7Y4nfqFNEomszhf1HNmJkuMF2Sv/+2baSyeaVWvhmEuwEGbzNBNGERtRWPiu3ot24zu+iItGLqP9+rnf14x1gVnECfao4xgxK8dh6ulFOU/b8RrR6efmcYZ68QEJQvC/Y6WNP34eFthPartgfcrPcOaUO4R/XuLa1TYMyxZx3Ca6etmx4AdL5YFmC9Xr3Gh4x/KYXWGOv3NIQJlGjJjaVE1lTvkSR+CyyWTwb2ZUfRpPgXnRbkalUzc/V/l6vmgxnhz8rH5ef1y3d/syzSIC9LvrejM3owNcRtsIob+15JWepDrBS9ti+K4CAmeFGHm3Oj+QS5y/3b6S3X3DAJUKPfV4VB9UB2BCGS2BM+0ZbpL7WGgp8W+Xr3WKFRXv4lAJDKzC+7QVjRp5Qdw6LcDaH9yBmU/ly89iHT319pKRKfO6c/OeuAhPYiecU6kGZ0bLq0Ea0L+faHLxd4LdjTv0htz1u6zYXAGE2wk/Rje8OkruRiw4yYPvxh6D5sXyU2NSFwnMrE8qit/MnmvlZqujCL+eXcTzL4c90VRQpOrPplPboU2ZcdFKzpOqCtuWP/FhuJnQ1URTtPVXthi6X8tLqOv7ZHh+r4GvBLt+MlpsurvhmVBWdsQhj6f/tL+WPy/Yebzh/3G1zaj7O1/w454ZlYj6kfvYfX/0LdKBo/LW0CmfKz0z0CaM1GwNjNoIJjYeK/6IpBId7G0x8qrw4FSNVBa0dzikjVHXjhf2a519TQ/1o462SHFnzqBx6oX+pD593XY8VQOPG+UY9V/ycCWGTeoS9IxvOHTV3IxYMeNWj1+rcpZc6IPPViGzEQOUfhBLTJKWmOsNjIh7Vuy1O8eFuFyKmlYEFOqccHp645xT9rkBHdnBZ4pUlfcaH5LJGxtBLPIIytlfkfP9Vx2R1naO9UHPV5Hd//a/aYofWglvCw0vBbFxAPOk3oJQuRMwn/qYC50ypLOjJZdnTH+3jciM5bl6L9pVv17InjPJAzG6JwDDi3ihbpV0g/77/U1U3mRnrEUgdF9wi4ygL5AOX2mOxfI88WN4RFtJaK0O32pZxQucX7ml5dhtM7XFWw+shtGkP/DQ/j0n0NMqjLuQP0T51D80jYU3GtB2n0V2O9Qh4sVGeQnfhDQE0WzOFPvMnnBNfU1IdHHcFrp6+bHgJ1A/f/aCneEBhxx4R2B+1Ls9UY5RXrDFhECMRImdbr/KMNCdkF0XaJ8rvbDIas3Mx8pDvH95fCDgvdAMyr3NMP9dEXEkZVM5gXa/9EO9RrL/WtPbw3WbFNLBFnY8f5hbI1hYBbLxAU1Grdh2YMFKHhghsuDy8Le6jAKteS35qdObQavw88ntwpqorr2vnzkBJ/XvR2waidOPvZsV1uleGB/bi2293rQu3MpMnZN6rwZm+wiVMgIFDbz6XbJDFkOCr4nn3zRho4zRdjcdBDHLn+Jy18MYegPl/Hln4fQXSuCdai0c/GUCKqDaMyvhdq7WmMWGeNS8b+3E7bj+q5rbsPt6tt5/++UtW7JOoaxpa9ZQLYWpyhc69Y1dfet0Xc3Kanqc5/qknukT3Yr6dprhO464XuPUN2XJrp1+c+io3Z/2BDURcrXJSLibDvDE7MpBXQf8ZmYbShV2X5c7pOufY6Xg7ql6XzdxealVis9X8mdwfxmM5rokhLJ8e1KivrcqLp5XOtSM+/7bSG6zkhfjyp9ewv13+n21cru/hDHIQzfMQjV/Y6m4NS7/KQ+3qGMhDh/Eq3rKXluBKcbvy6JE13NxHm3WusSKM+pUN0RQwrfrWui66B4/1Bn3Icv6N26Umv8OkSdb1JWqLPU/S76c1SbMa04XVnxeFvAdcB3jZk8i5jv+099fUv0MWT6Co0Beypqv8aREWXksx5luy8IzEtXNnWe1ff7L66TSs+vm5Tq78t+ymKZ6P87pr7OsHLyn1bLx1Yo2+3qa4wqY+KiNfYn9T06lE3p+t+lbGhRTrrEPv8+lRN9MVcrLVr/51GRcFKvTUWnfdazSs8LMqCmlCgtnwxrn200VOAc7VGqtffLVXYf97sQjA0rbY/r/WVX7z8rd14zEbDFkrq5Sxn1u+iOdG7UA6D6mlMEwLM/k4E9ZH/UIF91KCXqc/PCZ0K0Y6ge499tFxc3/fPNe7ZL+/7+y1lHl9LysxIlV2YY0h9pUvpiuA6q9AvWCuVlp9xB0RHn3Ca1L/qkMQiSpc8vo+j/+4nM20t6IF299+xEQDm7t1ppUYOXTHsbpwwgY8qoOMeGP2lRSuT7rHihRzkr9l1Lg6NKz7P6NSL3pT6/9DOmDL8l08+Dk8do2P0d3+cOXFLS05X0vBJl9+/E557ymJ5UdmtpvlBpC5HofGMshJuGVpfoY8j0FQ4D9hT8g9N0lokcoq/UO2lRc7N+JcLgJahEefaNEr2Efnuqkp6eoqQXt00k7EifNeyAIyI4d23N1UuvqSLh352ur9+9UWnyD+J+Jt5nc5sooYrPkyI+i/i7dDkoSMp/q1a6Jg2oEoJWaog2F+07RiVKR8hS+7VBHKJZUtJzlZKftSknR6J572Dyope+26ADmFwnox8q27PEcYs033iiOV+WmTmRme2sVtJvF2lIPXfVAJReEvac1zOXG8Oce/7Cn4eBaVAE599V65lGNS37PsPt6crGvf5BXPp6VPnwR1FciyYF+kCjtk1a+s4VATUkeZ2KONBQwo8h01c4DNhGpJXWRWnxT9MJNmF8rZcMtNedYqSkawFbZiZi+NsAWsCOJgHrRn6p105MrspLMpnRiHb0NBLU6lntFkyu0nQdS00jbxTq567vVomvBi1iWtJLlCkvfCi340uvGVKX0YlSaSDfCHG5ym7HyOTniOuBWqLfKGvnCt8KU18laze0Ur3cNYnvVlWE22kJP4ZMX2ExYFPMJgXsaGhBPfCCpOa4Y7oI/rFNKVTfN+r7iImhlxSiGIaWJL+AE0M7gfgbUzo26EEtpmDgUNtPpOhtOUbalI01iQncYfmG+Zwqvfnax4R6npZhSlcKf3mtqjqcvhr1twrXriTxx5DpKzy2EqckcKF59XwszFiIta/KlufjDry2z4S6LaHGhwvjzgrUPWMGultgndHwkDOgfW4XTI81YHMiu+vdRJz7ClH6G6Ds7cOoy05i961JTqHvA31t3f3RD+7qONQKr2Ur/v574ru0d2LBIzGcs8k016T3HghuMT7uFOmvECdrPkb3M5la7xDvR80Ts/wFy/kHddRGkWYPyL7UARJ8DJm+IpOBmyhKY0rfj2SjujCtxCfrUarV54slRWv5Kl7jx0uU1Gd7psztTyKr9QJa0CaR3sK3UGmL5h49KWff0Fvhh71nGlfDSsePXlS6XHIzyNjxF2UPDd/kFdEZs1crqSm5ysanVislSfkewXw1FKnKxreGQ6eZP/Upu0PeclAbuOUq1e8GfuG+mtURG3Sd3Rv6PE/0MWT6iowBm6IWdrayiN3HdCd/plajL1Gq9zYp1QXpSsoUjWMi0bvMLVF2fyJ3JItWJZ+qbAq6+FFovq6NqZt7wt8zjSOtQdV3diuTwsGIvJUyaYkwK1WwGc2CFQdaF8SNSvrt4nOn5iolW19Umn6t9naoVjb5eqV8t1rpOu//GWWrbV+jNr8lJWzjTcnX5sDX9SwZx5Dpa0rfUP+RhW2iiLweN0KOWzLHDMsdcoCHsLxw9XbDduQsblm/ARX3ZwaOChcj96FyrHjhFhz89CAKklHLqlUrZqPjkQEcS/JAH4Z0rhmrVtRi+LF2fPrPxaEH9oinKzZULi/HqZrTGJBj1U8Y98JzxTN5hK2oztsbjPgu7tO96Ps/fbCfcgNzM5GfswzLHlyJzODJRC40I3t5rT7ASTDLDhwbmmLWN08/6ovXwK6e89VpiT2GTF9RYcAmw/IcrUXJkXwc/kWBHLUtcZwtpahHAw7Ie4AUwTkrilZvgWNxAwbeD55CNv68Z1pRtq4GDk8O9nz+HqomTflK0+Z1orWyFvjJIVTFMAJgrJi+osOATUTx47GjckkpOlGGQ4mu/fC64WipxtN1dn3s6+w9GHq/ipNF0E2LrcSJKD7Uas1iEaw9WWh4P1HB2gvPGQdadxUh41sZKPIFa6Hg2TjO9kZ0A2IJm4jiwAN71RKU/saD/B8exOZ7b5H7Z+YvF/vgOO8B3IPoOTUM96Vw00IW4+B/tKMslklqiAyGAZuIZkidl3ktsn86KLeTz/R0Ny7/4gbtH00UJ6wSJ6IZcb16fYO1Ol1rxd8xWNPNjyVsIpqZqx64vwrV3y9ZTDBbzGxdTDc9BmwiIiIDYJU4ERGRATBgExERGQADNhERkQEwYBMRERkAAzYRJca4G7aGetjiPHe594wVzUd945sRzR4M2ESUEK6WUpT/vBGvxSG4uk/Y0LmvFqX5CzH/b7bAeuZ6diMjuj4YsIkoIdLKD+DQbwfQ/mR8Rvi+ZVEBGvZuAydfpNmKAZuIEsOciYK1mYjHHCCW+4pR/HD+5DmfiWYRBmwiijMv3CfssPW6xBoRxQsDNhHFkQf259Zie68HvTuXImNXv9xPRDPFgE1E8fNRPV627Ef78zlIE5uei9dK2YM/X4WMezKiX3IbcT2nFCG60XAscSKKG+e+LXAU7UeVtx5L/6YRWa9fRntpHO87X2hG9vJaoP40Bp5XswREswdL2EQUN5nPi2C9WATudzrgQjEeWs9GYkTxwoBNRHHWj9f2uWB6ejPK5spdKnUaTrc7hsXDRmtEflglTkTx1VuD+YVWVPRcxp7FVpTvSUN7Yz48Z+xwOGMJwWlY+XAWAnpxs0qcZjEGbCKKK8e2W1F0ZAeODdXB9EoRXru/G3u+Jx+cKV/A/skABrZzCBWaXRiwiSiuvEe3IGPjIPILb4E361Ucen7mgdV1oBRrXumD+5JH7hHMFli+uQEHPm9AvtxFdDNjwCai+FPvV4/fAgtHJiOKGwZsIiIiA2ArcSIiIgNgwCYiIjIABmwiIiIDYMAmIiIyAAZsIiIiA2DAJiIiMgAGbCIiIgNgwCYiIjIABmwiIiIDYMAmIiIyAAZsIiIiA2DAJiIiMgAGbCIiIgNgwCYiIjIABmwiIiIDYMAmIiIyAAZsIiIiA2DAJiIiMgAGbCIiIgNgwCYiIjIABmwiIiIDYMAmIiIyAAZsIiIiA2DAJiIiMgAGbCIiIgNgwCYiIjIABmwiIiIDYMAmIiIyAAZsIiIiA2DAJiIiMgAGbCIiIgNgwCYiIjIABmwiIiIDYMAmIiIyAAZsIiIiA2DAJiIiMgAGbCIiIgNgwCYiIjIABmwiIiIDYMAmIiIyAAZsIiIiA2DAJiIiMgAGbCIiohse8P8BULThZLzXm8UAAAAASUVORK5CYII=)"
      ],
      "metadata": {
        "id": "Ayg9amoNF32z"
      }
    },
    {
      "cell_type": "markdown",
      "source": [
        "**Where:**\n",
        "* 𝐷 is the dataset at a given node.\n",
        "\n",
        "* 𝐶 is the number of classes.\n",
        "\n",
        "* 𝑝𝑖 is the proportion (probability) of instances belonging to class 𝑖 in 𝐷.\n",
        "\n",
        "* log2 is the logarithm to the base 2."
      ],
      "metadata": {
        "id": "Gf7RAs6xF49Y"
      }
    },
    {
      "cell_type": "markdown",
      "source": [
        "**Example:**\n",
        "Suppose a node has:\n",
        "\n",
        "* 5 samples in class A\n",
        "\n",
        "* 5 samples in class B\n",
        "\n",
        "**Then:**\n",
        "\n",
        "* pA\n",
        " =\n",
        "5/10 = 0.5\n",
        "\n",
        "* 𝑝𝐵 = 5/10 = 0.5\n",
        "\n",
        "\n",
        "Entropy = −(0.5log 2 (0.5)+0.5log  2 (0.5))=−(0.5×−1+0.5×−1)=1\n"
      ],
      "metadata": {
        "id": "JiPEi6v8Gv4V"
      }
    },
    {
      "cell_type": "markdown",
      "source": [
        "So the entropy is 1 when the data is evenly split between two classes (maximum uncertainty).\n",
        "\n",
        "* **Entropy** = 0 when all samples belong to one class (pure node).\n",
        "\n",
        "* Higher entropy means higher impurity."
      ],
      "metadata": {
        "id": "PeU4PwlvIIyA"
      }
    },
    {
      "cell_type": "markdown",
      "source": [
        "## **Q5.What is Information Gain, and how is it used in Decision Trees**"
      ],
      "metadata": {
        "id": "hDDW1TmyIPFU"
      }
    },
    {
      "cell_type": "markdown",
      "source": [
        "Information Gain (IG) is a metric used in Decision Trees to decide which feature to split on at each node. It measures the reduction in entropy (or impurity) after a dataset is split based on a feature.\n",
        "\n",
        "**Definition:**\n",
        "\n",
        "![Screenshot 2025-05-30 223110.png](data:image/png;base64,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)"
      ],
      "metadata": {
        "id": "wMXrUUdlIbyQ"
      }
    },
    {
      "cell_type": "markdown",
      "source": [
        "**Where:**\n",
        "\n",
        "* 𝐷 is the original dataset before the split.\n",
        "\n",
        "* 𝐷𝑘  is the\n",
        "𝑘𝑡ℎ subset of the dataset after splitting on a feature.\n",
        "\n",
        "* ∣𝐷𝑘∣ is the number of instances in subset 𝐷𝑘.\n",
        "\n",
        "* ∣𝐷∣ is the number of instances in the original dataset.\n",
        "\n",
        "* Entropy(𝐷) is the entropy before the split.\n",
        "\n",
        "* Entropy (𝐷𝑘) is the entropy of subset 𝐷𝑘."
      ],
      "metadata": {
        "id": "ncleEqFIJLEu"
      }
    },
    {
      "cell_type": "markdown",
      "source": [
        "**How is it used**\n",
        "1. For each feature:\n",
        "\n",
        "* Calculate the entropy of the original dataset.\n",
        "\n",
        "* Split the dataset based on that feature.\n",
        "\n",
        "* Calculate the weighted average entropy of all resulting subsets.\n",
        "\n",
        "* Compute Information Gain.\n",
        "\n",
        "2. Choose the feature with the highest Information Gain to split the node."
      ],
      "metadata": {
        "id": "BWJRUXGwJ2EN"
      }
    },
    {
      "cell_type": "markdown",
      "source": [
        "**Example:**\n",
        "\n",
        "Suppose you have a dataset 𝐷 with 10 samples:\n",
        "\n",
        "* 6 are \"Yes\", 4 are \"No\"\n",
        "\n",
        "![Screenshot 2025-05-30 223658.png](data:image/png;base64,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)"
      ],
      "metadata": {
        "id": "ev0QIIlIKJUX"
      }
    },
    {
      "cell_type": "markdown",
      "source": [
        "Now suppose splitting on a feature results in two subsets:\n",
        "\n",
        "* 𝐷1 : 4 \"Yes\", 0 \"No\" →\n",
        "Entropy\n",
        "=\n",
        "0\n",
        "\n",
        "* 𝐷2 : 2 \"Yes\", 4 \"No\" → Entropy≈0.918\n",
        "\n",
        "Weighted average entropy after split:\n",
        "![Screenshot 2025-05-30 223943.png](data:image/png;base64,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)\n",
        "\n",
        "Information Gain:\n",
        "IG=0.971−0.5508=0.4202\n",
        "\n",
        "So, this feature reduces uncertainty by 0.42, and the tree would likely split on it if it has the highest gain."
      ],
      "metadata": {
        "id": "JpWdl5uuKcXa"
      }
    },
    {
      "cell_type": "markdown",
      "source": [
        "## **Q6.What is the difference between Gini Impurity and Entropy?**"
      ],
      "metadata": {
        "id": "hvvyhY9dLnBt"
      }
    },
    {
      "cell_type": "markdown",
      "source": [
        "| Aspect          | **Gini Impurity**                                              | **Entropy** (Information Gain)                                 |\n",
        "| --------------- | -------------------------------------------------------------- | -------------------------------------------------------------- |\n",
        "| **Formula**     | $1 - \\sum_{i=1}^{C} p_i^2$                                     | $-\\sum_{i=1}^{C} p_i \\log_2(p_i)$                              |\n",
        "| **Focus**       | Measures probability of incorrect classification               | Measures average information (uncertainty) in a dataset        |\n",
        "| **Range**       | 0 (pure) to $(1 - \\frac{1}{C})$ (most impure)                  | 0 (pure) to $\\log_2(C)$ (most impure)                          |\n",
        "| **Computation** | Simpler and faster (no log)                                    | Slightly more complex due to logarithmic calculations          |\n",
        "| **Used In**     | CART (Classification and Regression Trees)                     | ID3, C4.5 decision tree algorithms                             |\n",
        "| **Bias**        | Tends to create **purer child nodes** (more aggressive splits) | May create more **balanced trees** due to higher sensitivity   |\n",
        "| **Behavior**    | Gini is more sensitive to **node purity**                      | Entropy is more sensitive to **changes in class distribution** |\n"
      ],
      "metadata": {
        "id": "653YP4z5L3km"
      }
    },
    {
      "cell_type": "markdown",
      "source": [
        "**Example:**\n",
        "For a node with:\n",
        "\n",
        "* 50% class A and 50% class B:\n",
        "\n",
        "* Gini:\n",
        "\n",
        "$$1−(0.5^\n",
        "2\n",
        " +0.5^\n",
        "2\n",
        " )=0.5$$\n",
        "\n",
        "* Entropy:\n",
        "\n",
        "$$−(0.5\\log_2\n",
        "​\n",
        " 0.5+0.5\\log_2\n",
        "​\n",
        " 0.5)=1.0$$\n",
        "\n",
        "For a node with:\n",
        "\n",
        "* 90% class A and 10% class B\n",
        "\n",
        "* Gini:\n",
        "$$1-(0.9^2 + 0.1^2)=0.18$$\n",
        "\n",
        "* Entropy:\n",
        "\n",
        "$$-(0.9 \\log_2 0.9 + 0.1 \\log_2 0.1) ≈ 0.47$$"
      ],
      "metadata": {
        "id": "khw4hPI-MEQJ"
      }
    },
    {
      "cell_type": "markdown",
      "source": [
        "## **Q7.What is the mathematical explanation behind Decision Trees?**\n"
      ],
      "metadata": {
        "id": "QVAGyiM9OWfg"
      }
    },
    {
      "cell_type": "markdown",
      "source": [
        "**Mathematical Explanation of Decision Trees**\n",
        "\n",
        "A Decision Tree is a supervised learning algorithm used for classification and regression. It works by splitting data into subsets based on feature values, recursively creating a tree structure that leads to a prediction.\n",
        "\n",
        "\n",
        "**Core Idea**\n",
        "\n",
        "At each node, the algorithm chooses the best feature to split the dataset based on a mathematical criterion (like Gini Impurity, Entropy, or Variance), with the goal of creating the purest child nodes.\n",
        "\n",
        "**Mathematical Foundations**\n",
        "\n",
        "**1. Splitting Criteria (for Classification)**\n",
        "\n",
        "At each node, the goal is to select the feature \\( X_j \\) and threshold \\( t \\) that maximizes information gain or minimizes impurity.\n",
        "\n",
        "Let:\n",
        "\n",
        "- \\( D \\): current dataset at a node  \n",
        "- \\( D_{\\text{left}}, D_{\\text{right}} \\): subsets created by a split  \n",
        "- \\( \\text{Impurity}(D) \\): impurity of the dataset (Gini or Entropy)\n",
        "\n",
        "Then:\n",
        "\n",
        "$$\n",
        "\\text{Gain} = \\text{Impurity}(D) - \\left(\n",
        "\\frac{|D_{\\text{left}}|}{|D|} \\cdot \\text{Impurity}(D_{\\text{left}}) +\n",
        "\\frac{|D_{\\text{right}}|}{|D|} \\cdot \\text{Impurity}(D_{\\text{right}})\n",
        "\\right)\n",
        "$$\n",
        "\n",
        "The feature and threshold giving the highest gainis chosen for the split.\n",
        "\n",
        "\n",
        "**2. Impurity Measures**\n",
        "\n",
        "**Gini Impurity:**\n",
        "$$\n",
        "Gini(D) = 1 - \\sum_{i=1}^{C} p_i^2\n",
        "$$\n",
        "\n",
        "**Entropy:**\n",
        "\n",
        "$$\n",
        "Entropy(D) = -\\sum_{i=1}^{C} p_i \\log_2(p_i)\n",
        "$$\n",
        "\n",
        "**Information Gain:**\n",
        "$$\n",
        "IG = Entropy(D) - \\sum_{k} \\frac{|D_k|}{|D|} \\cdot Entropy(D_k)\n",
        "$$\n",
        "\n",
        "\n",
        "**3. Splitting Criteria (for Regression)**\n",
        "\n",
        "For regression trees, impurity is measured using **variance** or **Mean Squared Error (MSE)**:\n",
        "\n",
        "$$\n",
        "MSE = \\frac{1}{|D|} \\sum_{i=1}^{|D|} (y_i - \\bar{y})^2\n",
        "$$\n",
        "\n",
        "The goal is to find a split that minimizes the MSE after splitting.\n",
        "\n",
        "\n",
        "\n",
        "**4. Recursive Partitioning**\n",
        "\n",
        "Splitting continues recursively until:\n",
        "\n",
        "* All samples in a node belong to the same class (pure).\n",
        "* A maximum tree depth is reached.\n",
        "* A minimum number of samples per node is met.\n",
        "\n",
        "**5. Prediction**\n",
        "\n",
        "* **Classification**: A sample follows the tree path and ends in a leaf node, where the majority class is the prediction.\n",
        "* **Regression**: The output is the average of all target values in the leaf node.\n"
      ],
      "metadata": {
        "id": "MbyUgq78PBqv"
      }
    },
    {
      "cell_type": "markdown",
      "source": [
        "## **Q8.What is Pre-Pruning in Decision Trees?**"
      ],
      "metadata": {
        "id": "dOldi9cgQGJr"
      }
    },
    {
      "cell_type": "markdown",
      "source": [
        "**Pre-Pruning in Decision Trees**\n",
        "\n",
        "Pre-pruning, also called early stopping, is a technique used to prevent overfitting in decision trees by stopping the tree from growing too deep during the training process. *\n",
        "\n",
        "\n",
        "**Key Idea**\n",
        "\n",
        "Instead of growing a full tree and then cutting it back (*post-pruning*), pre-pruning stops the tree growth early—before it reaches perfect classification on the training data.\n",
        "\n",
        "\n",
        "**How It Works**\n",
        "\n",
        "During the tree-building process, the algorithm evaluates whether a split should be made at a node based on certain criteria. If the condition is not met, the node is converted into a leaf, and the tree stops growing further at that point.\n",
        "\n",
        "\n",
        "**Common Pre-Pruning Conditions**\n",
        "\n",
        "- **Maximum depth reached**  \n",
        "  → e.g., `max_depth = 10`\n",
        "\n",
        "- **Minimum number of samples required to split a node**  \n",
        "  → e.g., `min_samples_split = 5`\n",
        "\n",
        "- **Minimum number of samples required at a leaf node**  \n",
        "  → e.g., `min_samples_leaf = 2`\n",
        "\n",
        "- **Minimum gain in impurity** (information gain or Gini reduction)  \n",
        "  → If the gain is below a threshold, the split is not made.\n",
        "\n",
        "- **Maximum number of nodes or leaves**\n",
        "\n",
        "\n",
        "\n",
        "**Advantages**\n",
        "\n",
        "- Reduces overfitting\n",
        "- Improves generalization to unseen data\n",
        "- Faster training time and smaller model size\n",
        "\n",
        "\n",
        "\n",
        "**Disadvantages**\n",
        "\n",
        "- Might lead to underfitting if stopped too early\n",
        "- Requires tuning of hyperparameters (e.g., `max_depth`, `min_samples_split`)\n"
      ],
      "metadata": {
        "id": "D2U7_uPCQcSq"
      }
    },
    {
      "cell_type": "code",
      "source": [
        "#Example\n",
        "from sklearn.tree import DecisionTreeClassifier\n",
        "\n",
        "model = DecisionTreeClassifier(max_depth=5, min_samples_split=10)\n",
        "model.fit(X_train, y_train)\n"
      ],
      "metadata": {
        "id": "qGycO8lLTC5I"
      },
      "execution_count": null,
      "outputs": []
    },
    {
      "cell_type": "markdown",
      "source": [
        "## **Q9.What is Post-Pruning in Decision Trees?**"
      ],
      "metadata": {
        "id": "aOmMMQNfSGHf"
      }
    },
    {
      "cell_type": "markdown",
      "source": [
        "**Post-Pruning in Decision Trees**\n",
        "\n",
        "Post-pruning, also known as cost-complexity pruning or error-based pruning, is a technique used to simplify a fully grown decision tree by removing branches that do not provide significant predictive power—after the tree has been fully trained.\n",
        "\n",
        "\n",
        "**Key Idea**\n",
        "\n",
        "Unlike pre-pruning, which stops the tree from growing early, post-pruning allows the tree to grow completely.\n",
        "\n",
        "Then, it removes branches that may be overfitting the training data and do not generalize well to unseen data.\n",
        "\n",
        "\n",
        "**How It Works**\n",
        "\n",
        "1. **Grow the full decision tree** until all nodes are pure or meet a stopping condition.\n",
        "2. **Evaluate each non-leaf node**:\n",
        "   - Replace the subtree rooted at that node with a leaf node.\n",
        "   - Measure performance (usually on a validation set or using cross-validation).\n",
        "3. If the pruned tree performs better or similarly, keep the pruning.\n",
        "4. Repeat until no further improvements are found.\n",
        "\n",
        "\n",
        "**Cost-Complexity Pruning (Used in scikit-learn)**\n",
        "\n",
        "* A balance is maintained between:\n",
        " * Model complexity(number of nodes)\n",
        " * Training error\n",
        "\n",
        "* It introduces a regularization parameter α (alpha):\n",
        "\n",
        " - $$R_α (T)=R(T)+α⋅∣T∣$$\n",
        "\n",
        "Where:\n",
        "- \\( R(T) \\): total misclassification rate (or error) of tree \\( T \\)  \n",
        "- \\( |T| \\): number of terminal nodes (leaves)  \n",
        "- α: penalty for complexity\n",
        "\n",
        "\n",
        "**Advantages**\n",
        "\n",
        "- Reduces overfitting while still allowing the model to initially learn complex patterns\n",
        "- Generally results in a smaller, more interpretable tree\n",
        "- Often more effective than pre-pruning\n",
        "\n",
        "\n",
        "**Disadvantages**\n",
        "\n",
        "- Requires an additional validation set or cross-validation\n",
        "- More computationally expensive, as it needs to evaluate many possible subtrees\n",
        "\n",
        "**Example**\n"
      ],
      "metadata": {
        "id": "dxymmzT2SXI_"
      }
    },
    {
      "cell_type": "code",
      "source": [
        "from sklearn.tree import DecisionTreeClassifier\n",
        "\n",
        "# Step 1: Train fully grown tree\n",
        "tree = DecisionTreeClassifier(ccp_alpha=0.01)  # alpha controls pruning strength\n",
        "tree.fit(X_train, y_train)\n"
      ],
      "metadata": {
        "id": "QF6zDCC6Uc0W"
      },
      "execution_count": null,
      "outputs": []
    },
    {
      "cell_type": "markdown",
      "source": [
        "## **Q10.What is the difference between Pre-Pruning and Post-Pruning?**"
      ],
      "metadata": {
        "id": "37UxdKW8Uqod"
      }
    },
    {
      "cell_type": "markdown",
      "source": [
        "| Feature               | **Pre-Pruning (Early Stopping)**                                   | **Post-Pruning (Cost-Complexity Pruning)**                    |\n",
        "| --------------------- | ------------------------------------------------------------------ | ------------------------------------------------------------- |\n",
        "| **When applied**      | During tree construction                                           | After the full tree is built                                  |\n",
        "| **Strategy**          | Stops tree growth early if further splitting doesn’t meet criteria | Grows full tree first, then prunes back unnecessary branches  |\n",
        "| **Goal**              | Prevent overfitting by restricting tree depth or size early        | Remove overfitting after allowing full learning               |\n",
        "| **Criteria**          | `max_depth`, `min_samples_split`, `min_impurity_decrease`, etc.    | Validation set error or cost-complexity measure (`ccp_alpha`) |\n",
        "| **Control mechanism** | Hyperparameters controlling growth                                 | Error-complexity tradeoff using α (alpha)                     |\n",
        "| **Risk**              | May underfit if stopped too early                                  | May be computationally expensive                              |\n",
        "| **Advantage**         | Faster training, simpler model during training                     | Often leads to better generalization                          |\n",
        "| **Disadvantage**      | Risk of missing important splits                                   | Needs validation set or cross-validation                      |\n",
        "| **Example (sklearn)** | `DecisionTreeClassifier(max_depth=5)`                              | `DecisionTreeClassifier(ccp_alpha=0.01)`                      |\n"
      ],
      "metadata": {
        "id": "JK0AuPuDVx3D"
      }
    },
    {
      "cell_type": "markdown",
      "source": [
        "- **Pre-pruning is proactive —** stops growth based on rules.\n",
        "\n",
        "- **Post-pruning is reactive —** trims the full tree to reduce complexity."
      ],
      "metadata": {
        "id": "-GsYJCP6V7LE"
      }
    },
    {
      "cell_type": "markdown",
      "source": [],
      "metadata": {
        "id": "51O3KtEqWHq0"
      }
    },
    {
      "cell_type": "markdown",
      "source": [
        "## **Q11.What is a Decision Tree Regressor?**"
      ],
      "metadata": {
        "id": "tND3dWzwWL2u"
      }
    },
    {
      "cell_type": "markdown",
      "source": [
        "A Decision Tree Regressor is a type of decision tree algorithm used for regression tasks, where the goal is to predict a continuous numerical value rather than a discrete class label.\n",
        "\n",
        "**Key Concept**\n",
        "\n",
        "Just like a classification decision tree splits data into classes, a Decision Tree Regressor splits the data into regions based on feature values, but at each leaf node, it outputs a numeric prediction — typically the mean of the target values in that region.\n",
        "\n",
        "**How It Works**\n",
        "1. Start with the full dataset.\n",
        "\n",
        "2. At each node:\n",
        "\n",
        " * Choose the best feature and threshold to split the data.\n",
        "\n",
        " * The goal is to minimize variance (MSE) of the target values in the resulting child nodes.\n",
        "\n",
        "3. Continue recursively splitting until a stopping condition is met (e.g., minimum samples, max depth).\n",
        "\n",
        "4. At each leaf node, the predicted value is the average of target values in that region.\n",
        "\n",
        "**Splitting Criterion: Mean Squared Error (MSE)**\n",
        "\n",
        "The algorithm chooses the split that minimizes the MSE:\n",
        "\n",
        "$$\n",
        "\\text{MSE} = \\frac{1}{N} \\sum_{i=1}^{N} (y_i - \\bar{y})^2\n",
        "$$\n",
        "\n",
        "* 𝑦𝑖 : actual target value\n",
        "\n",
        "* 𝑦ˉ : mean of target values in the node\n",
        "\n",
        "* 𝑁: number of samples in the node\n",
        "\n",
        "**Advantages**\n",
        "* Easy to interpret and visualize\n",
        "\n",
        "* Handles non-linear relationships well\n",
        "\n",
        "* No need for feature scaling\n",
        "\n",
        "**Disadvantages**\n",
        "* Can overfit if not pruned or regularized\n",
        "\n",
        "* Sensitive to small changes in data\n",
        "\n",
        "**In scikit-learn**"
      ],
      "metadata": {
        "id": "KOkxqFHEWTnb"
      }
    },
    {
      "cell_type": "code",
      "source": [
        "from sklearn.tree import DecisionTreeRegressor\n",
        "\n",
        "reg = DecisionTreeRegressor(max_depth=3)\n",
        "reg.fit(X_train, y_train)\n",
        "y_pred = reg.predict(X_test)\n"
      ],
      "metadata": {
        "id": "UkgG3X4gXr-n"
      },
      "execution_count": null,
      "outputs": []
    },
    {
      "cell_type": "markdown",
      "source": [
        "## **Q12.What are the advantages and disadvantages of Decision Trees?**"
      ],
      "metadata": {
        "id": "F-Wwb3ZCWoB3"
      }
    },
    {
      "cell_type": "markdown",
      "source": [
        "**Advantages and Disadvantages of Decision Trees**\n",
        "\n",
        "**Advantages**\n",
        "\n",
        "- **Easy to understand and interpret:**  \n",
        "  The tree structure is intuitive and can be visualized graphically.\n",
        "\n",
        "- **Requires little data preprocessing:**  \n",
        "  No need for normalization or scaling of features.\n",
        "\n",
        "- **Handles both numerical and categorical data:**  \n",
        "  Can work with diverse data types without extensive transformation.\n",
        "\n",
        "- **Non-linear relationships:**  \n",
        "  Can capture non-linear patterns effectively.\n",
        "\n",
        "- **Fast prediction:**  \n",
        "  Once trained, prediction is quick.\n",
        "\n",
        "- **Feature selection:**  \n",
        "  Implicitly performs feature selection by choosing splits.\n",
        "\n",
        "\n",
        "\n",
        "**Disadvantages**\n",
        "\n",
        "- **Prone to overfitting:**  \n",
        "  Especially when trees are deep and complex.\n",
        "\n",
        "- **Instability:**  \n",
        "  Small changes in data can lead to very different trees.\n",
        "\n",
        "- **Biased with imbalanced datasets:**  \n",
        "  May favor the majority class.\n",
        "\n",
        "- **Greedy algorithms:**  \n",
        "  Split decisions are locally optimal but not globally.\n",
        "\n",
        "- **Less effective for regression:**  \n",
        "  Can create piecewise constant predictions that are not smooth.\n",
        "\n",
        "- **Can be outperformed by ensemble methods:**  \n",
        "  Like Random Forests and Gradient Boosting.\n",
        "\n"
      ],
      "metadata": {
        "id": "Iofq-S3iXyC4"
      }
    },
    {
      "cell_type": "markdown",
      "source": [],
      "metadata": {
        "id": "2oSa6TJ-YCNr"
      }
    },
    {
      "cell_type": "markdown",
      "source": [
        "## **Q13.How does a Decision Tree handle missing values?**"
      ],
      "metadata": {
        "id": "iVHwyrb_YERU"
      }
    },
    {
      "cell_type": "markdown",
      "source": [
        "**1. Ignoring or Removing Missing Values**\n",
        "* Sometimes, rows with missing values are simply ignored or removed during training.\n",
        "\n",
        "* This is straightforward but can cause loss of data if many values are missing.\n",
        "\n",
        "**2. Surrogate Splits (Common in CART)**\n",
        "\n",
        "* When the best splitting feature has missing values for some samples, the tree finds surrogate features.\n",
        "\n",
        "* Surrogate splits are alternative features that best mimic the original split’s behavior.\n",
        "\n",
        "* For an instance with missing value in the primary split feature, the decision tree uses the surrogate feature to decide the direction.\n",
        "\n",
        "* This allows using the full dataset without discarding instances.\n",
        "\n",
        "**3. Imputation Before Training**\n",
        "\n",
        "* Missing values can be imputed with strategies like mean, median, mode, or more advanced methods before training the tree.\n",
        "\n",
        "* The tree then treats these imputed values as normal data.\n",
        "\n",
        "**4. Probabilistic Splitting**\n",
        "* Some implementations split instances with missing values across branches with probabilities proportional to the distribution of known values.\n",
        "\n",
        "* For example, if 70% of samples go left and 30% go right, then the sample with a missing value is split 70%-30% probabilistically.\n",
        "\n",
        "**5. Treat Missing as a Separate Category**\n",
        "\n",
        "* For categorical features, missing can be treated as a separate category.\n",
        "\n",
        "* For numeric features, sometimes a special value (like -1 or a unique flag) can be assigned to represent missingness.\n",
        "\n"
      ],
      "metadata": {
        "id": "7P1AeamQYLAj"
      }
    },
    {
      "cell_type": "markdown",
      "source": [
        "| Method                  | Description                                             \n",
        "| ----------------------- | --------------------------------------------------------- |\n",
        "| Ignore or remove rows   | Drop rows with missing values (simple but may lose data)  |\n",
        "| Surrogate splits        | Use alternative features to split when primary is missing |\n",
        "| Imputation              | Fill missing values before training                       |\n",
        "| Probabilistic splitting | Split missing instances fractionally across branches      |\n",
        "| Missing as category     | Treat missing as a separate value/category                |\n",
        "\n"
      ],
      "metadata": {
        "id": "kRcuiVr_Y_Zb"
      }
    },
    {
      "cell_type": "markdown",
      "source": [
        "**In popular libraries:**\n",
        "\n",
        "* Scikit-learn's DecisionTreeClassifier/Regressor does not handle missing values natively, so you typically need to impute missing values beforehand.\n",
        "\n",
        "* XGBoost, LightGBM, CatBoost handle missing values internally using techniques like default directions for splits or surrogate splits."
      ],
      "metadata": {
        "id": "1ChCpDRfZDCW"
      }
    },
    {
      "cell_type": "markdown",
      "source": [
        "## **Q14.How does a Decision Tree handle categorical features?**"
      ],
      "metadata": {
        "id": "UTgfWvdTZID0"
      }
    },
    {
      "cell_type": "markdown",
      "source": [
        "**1. Direct Splitting on Categories (Exact Match Splits)**\n",
        "\n",
        "* The tree splits the data  based on the categories of the feature.\n",
        "\n",
        "* For a categorical feature with k categories, the split tries to find the best partition of categories into two groups.\n",
        "\n",
        "* For example, if a feature has categories {Red, Blue, Green}, a split might be:\n",
        "\n",
        " * Left branch: {Red, Green}\n",
        "\n",
        " * Right branch: {Blue}\n",
        "\n",
        "* The tree searches for the partition that best separates the target variable (using measures like Gini, entropy, or variance reduction).\n",
        "\n",
        "**2. One-Hot Encoding Before Tree Training**\n",
        "\n",
        "* If the algorithm or implementation only supports numerical data, categorical variables are often transformed into multiple binary (0/1) features using one-hot encoding.\n",
        "\n",
        "* The tree then splits on these binary features.\n",
        "\n",
        "* This works but can increase feature dimensionality and complexity.\n",
        "\n",
        "**3. Ordinal Encoding (Less Ideal)**\n",
        "\n",
        "* Sometimes categorical features are encoded as integers (e.g., Red=1, Blue=2, Green=3).\n",
        "\n",
        "* The tree treats the feature as numeric and splits based on thresholds.\n",
        "\n",
        "* This can impose an arbitrary order that may not be meaningful, potentially reducing model quality.\n",
        "\n",
        "**4. Specialized Algorithms (e.g., in XGBoost, LightGBM, CatBoost)**\n",
        "\n",
        "* Some implementations handle categorical features natively:\n",
        "\n",
        " - CatBoost especially supports categorical features directly and uses techniques like statistics-based encoding and ordered boosting.\n",
        "\n",
        " - LightGBM supports categorical splits by finding the best partition of categories.\n",
        "\n",
        " - XGBoost typically requires categorical features to be preprocessed (like one-hot or ordinal encoding).\n",
        "\n",
        "**5. Multivariate Splits (Less Common)**\n",
        "\n",
        " - Some advanced trees allow multiway splits on categorical features, where each category can be sent down a separate branch instead of binary splits.\n",
        "\n"
      ],
      "metadata": {
        "id": "4-H39N_ZaUZg"
      }
    },
    {
      "cell_type": "markdown",
      "source": [
        "| Approach                    | Description                                      | Pros                               | Cons                                          |\n",
        "| --------------------------- | ------------------------------------------------ | ---------------------------------- | --------------------------------------------- |\n",
        "| Direct categorical split    | Partition categories into two groups             | Natural handling of categories     | Computationally expensive for many categories |\n",
        "| One-hot encoding            | Convert categories to binary features            | Compatible with numeric-only trees | Increases dimensionality                      |\n",
        "| Ordinal encoding            | Assign integers to categories                    | Simple                             | Imposes arbitrary order                       |\n",
        "| Native categorical handling | Supported by some libraries (CatBoost, LightGBM) | Efficient and accurate             | Limited to specific libraries                 |\n",
        "| Multiway splits             | Each category goes to separate branch (rare)     | More flexible                      | Complexity in tree structure                  |\n"
      ],
      "metadata": {
        "id": "wDvqDyHta6bV"
      }
    },
    {
      "cell_type": "markdown",
      "source": [
        "## **Q15.What are some real-world applications of Decision Trees?**"
      ],
      "metadata": {
        "id": "iVXYGGC4bAgH"
      }
    },
    {
      "cell_type": "markdown",
      "source": [
        "**1. Healthcare and Medical Diagnosis**\n",
        "\n",
        "- Predicting disease presence (e.g., diabetes, heart disease) based on patient symptoms and test results.\n",
        "\n",
        "- Classifying patients into risk categories for treatment prioritization.\n",
        "\n",
        "- Identifying important risk factors for diseases.\n",
        "\n",
        "**2. Finance and Banking**\n",
        "\n",
        "- Credit scoring: Deciding whether to approve a loan or credit based on customer financial history and behavior.\n",
        "\n",
        "- Fraud detection: Flagging potentially fraudulent transactions by learning patterns of normal vs. suspicious behavior.\n",
        "\n",
        "- Customer segmentation for targeted marketing.\n",
        "\n",
        "**3. Marketing and Sales**\n",
        "\n",
        "- Customer churn prediction: Predict if a customer is likely to stop using a service.\n",
        "\n",
        "- Product recommendation: Classifying customers to suggest products they’re likely to buy.\n",
        "\n",
        "- Campaign effectiveness analysis by segmenting customers.\n",
        "\n",
        "**4. Manufacturing and Quality Control**\n",
        "\n",
        "- Predicting machine failures or maintenance needs based on sensor data.\n",
        "\n",
        "- Quality inspection: Classifying defective vs. non-defective products using features from manufacturing process data.\n",
        "\n",
        "**5. Retail and E-commerce**\n",
        "\n",
        "- Inventory management: Forecasting demand based on sales history and other factors.\n",
        "\n",
        "- Price optimization by classifying products/customers according to buying behavior.\n",
        "\n",
        "- Customer segmentation for personalized offers.\n",
        "\n",
        "**6. Human Resources**\n",
        "\n",
        "- Employee attrition prediction: Predicting which employees are likely to leave.\n",
        "\n",
        "- Recruitment screening: Classifying resumes or candidates based on features to shortlist the best matches.\n",
        "\n",
        "**7. Telecommunications**\n",
        "\n",
        "- Predicting customer churn to proactively offer retention plans.\n",
        "\n",
        "- Network fault detection and classification based on system logs and metrics.\n",
        "\n",
        "**8. Environmental Science**\n",
        "\n",
        "- Classifying land cover types in satellite images (forest, urban, water, etc.).\n",
        "\n",
        "- Predicting weather events or pollution levels from sensor data.\n",
        "\n",
        "**9. Education**\n",
        "\n",
        "- Student performance prediction and classification to identify those needing additional support.\n",
        "\n",
        "- Admission decision support based on application data.\n",
        "\n",
        "**10. Legal and Compliance**\n",
        "\n",
        "- Document classification (e.g., contract types).\n",
        "\n",
        "- Risk assessment for compliance violations."
      ],
      "metadata": {
        "id": "DSj19anbbEJc"
      }
    },
    {
      "cell_type": "markdown",
      "source": [
        "#***Practical***"
      ],
      "metadata": {
        "id": "mYRV0QzddtxK"
      }
    },
    {
      "cell_type": "markdown",
      "source": [
        "## **Q16. Write a Python program to train a Decision Tree Classifier on the Iris dataset and print the model accuracy**"
      ],
      "metadata": {
        "id": "GZZ-4JhFd8yV"
      }
    },
    {
      "cell_type": "code",
      "source": [
        "from sklearn.datasets import load_iris\n",
        "from sklearn.model_selection import train_test_split\n",
        "from sklearn.tree import DecisionTreeClassifier\n",
        "from sklearn.metrics import accuracy_score\n",
        "\n",
        "iris = load_iris()\n",
        "X = iris.data\n",
        "y = iris.target\n",
        "\n",
        "#Split into training and testing sets (80% train, 20% test)\n",
        "X_train, X_test, y_train, y_test = train_test_split(X, y, test_size=0.2, random_state=42)\n",
        "\n",
        "#create the Decision Tree Classifier\n",
        "model = DecisionTreeClassifier(criterion='gini', random_state=42)\n",
        "\n",
        "#train the model\n",
        "model.fit(X_train, y_train)\n",
        "\n",
        "#predict on the test set\n",
        "y_pred = model.predict(X_test)\n",
        "\n",
        "#calculate accuracy\n",
        "accuracy = accuracy_score(y_test, y_pred)\n",
        "\n",
        "#print the accuracy\n",
        "print(f\"Decision Tree Classifier Accuracy: {accuracy:.2f}\")\n"
      ],
      "metadata": {
        "colab": {
          "base_uri": "https://localhost:8080/"
        },
        "id": "KvLa5aSGc9QO",
        "outputId": "99a93e39-eb7f-4b54-88b5-9eedb1097516"
      },
      "execution_count": null,
      "outputs": [
        {
          "output_type": "stream",
          "name": "stdout",
          "text": [
            "Decision Tree Classifier Accuracy: 1.00\n"
          ]
        }
      ]
    },
    {
      "cell_type": "markdown",
      "source": [
        "## **Q17.Write a Python program to train a Decision Tree Classifier using Gini Impurity as the criterion and print the feature importances.**"
      ],
      "metadata": {
        "id": "n_Co49_idiqy"
      }
    },
    {
      "cell_type": "code",
      "source": [
        "from sklearn.datasets import load_iris\n",
        "from sklearn.model_selection import train_test_split\n",
        "from sklearn.tree import DecisionTreeClassifier\n",
        "\n",
        "iris = load_iris()\n",
        "X = iris.data\n",
        "y = iris.target\n",
        "feature_names = iris.feature_names\n",
        "\n",
        "\n",
        "#split the dataset into tarining and testing sets\n",
        "X_train, x_test, y_train, y_test = train_test_split(X, y, test_size=0.2, random_state=42)\n",
        "\n",
        "#create and train the decision tree classifier using Gini Impurity\n",
        "model = DecisionTreeClassifier(criterion='gini', random_state=42)\n",
        "model.fit(X_train, y_train)\n",
        "\n",
        "#print feature importances\n",
        "print(\"Feature Importances (based on Gini Impurity):\")\n",
        "for feature, importance in zip(feature_names, model.feature_importances_):\n",
        "    print(f\"{feature}: {importance:.4f}\")\n"
      ],
      "metadata": {
        "colab": {
          "base_uri": "https://localhost:8080/"
        },
        "id": "UoVqXCgXdr2n",
        "outputId": "0a95073e-925c-46fd-a10e-9405c0bb8afc"
      },
      "execution_count": null,
      "outputs": [
        {
          "output_type": "stream",
          "name": "stdout",
          "text": [
            "Feature Importances (based on Gini Impurity):\n",
            "sepal length (cm): 0.0000\n",
            "sepal width (cm): 0.0167\n",
            "petal length (cm): 0.9061\n",
            "petal width (cm): 0.0772\n"
          ]
        }
      ]
    },
    {
      "cell_type": "markdown",
      "source": [],
      "metadata": {
        "id": "jVfv08Y9eyTR"
      }
    },
    {
      "cell_type": "markdown",
      "source": [
        "## **Q18.Write a Python program to train a Decision Tree Classifier using Entropy as the splitting criterion and print the model accuracy.**"
      ],
      "metadata": {
        "id": "Ursjrh95ez1Y"
      }
    },
    {
      "cell_type": "code",
      "source": [
        "from sklearn.datasets import load_iris\n",
        "from sklearn.model_selection import train_test_split\n",
        "from sklearn.tree import DecisionTreeClassifier\n",
        "from sklearn.metrics import accuracy_score\n",
        "\n",
        "\n",
        "iris = load_iris()\n",
        "X = iris.data\n",
        "y = iris.target\n",
        "\n",
        "#splt the dataset into training and testing sets\n",
        "X_train, X_test, y_train, y_test = train_test_split(X, y, test_size=0.2, random_state=42)\n",
        "\n",
        "#create and train the Decision Tree Classifier using Entropy\n",
        "model = DecisionTreeClassifier(criterion='entropy', random_state=42)\n",
        "model.fit(X_train, y_train)\n",
        "\n",
        "#make predictions\n",
        "y_pred = model.predict(X_test)\n",
        "\n",
        "#calculate and print accuracy\n",
        "accuracy = accuracy_score(y_test, y_pred)\n",
        "print(f\"Decision Tree Classifier Accuracy (Entropy): {accuracy:.2f}\")"
      ],
      "metadata": {
        "colab": {
          "base_uri": "https://localhost:8080/"
        },
        "id": "eGkL7fgge8fn",
        "outputId": "34e0525a-9f61-4089-9f64-f30720dd489f"
      },
      "execution_count": null,
      "outputs": [
        {
          "output_type": "stream",
          "name": "stdout",
          "text": [
            "Decision Tree Classifier Accuracy (Entropy): 1.00\n"
          ]
        }
      ]
    },
    {
      "cell_type": "markdown",
      "source": [
        "## **Q19.Write a Python program to train a Decision Tree Regressor on a housing dataset and evaluate using Mean Squared Error (MSE).**"
      ],
      "metadata": {
        "id": "VMsQTNFwgeO-"
      }
    },
    {
      "cell_type": "code",
      "source": [
        "from sklearn.datasets import fetch_california_housing\n",
        "from sklearn.model_selection import train_test_split\n",
        "from sklearn.tree import DecisionTreeRegressor\n",
        "from sklearn.metrics import mean_squared_error\n",
        "\n",
        "housing = fetch_california_housing()\n",
        "X = housing.data\n",
        "y = housing.target\n",
        "\n",
        "X_train, X_test, y_train, y_test = train_test_split(X, y, test_size=0.2, random_state=42)\n",
        "\n",
        "#create and train the Decision Tree Regressor\n",
        "regressor = DecisionTreeRegressor(criterion='squared_error', random_state=42)\n",
        "regressor.fit(X_train, y_train)\n",
        "\n",
        "#predict on the test set\n",
        "y_pred = regressor.predict(X_test)\n",
        "\n",
        "#evaluate using Mean Squared Error\n",
        "mse = mean_squared_error(y_test, y_pred)\n",
        "print(f\"Mean Squared Error (Decision Tree Regressor): {mse:.4f}\")\n"
      ],
      "metadata": {
        "colab": {
          "base_uri": "https://localhost:8080/"
        },
        "id": "Egva32QpgjhC",
        "outputId": "30f23d39-9ca7-4bf8-a939-f0c0eb57435f"
      },
      "execution_count": null,
      "outputs": [
        {
          "output_type": "stream",
          "name": "stdout",
          "text": [
            "Mean Squared Error (Decision Tree Regressor): 0.4952\n"
          ]
        }
      ]
    },
    {
      "cell_type": "markdown",
      "source": [
        "## **Q20.Write a Python program to train a Decision Tree Classifier and visualize the tree using graphviz.**\n"
      ],
      "metadata": {
        "id": "uiplY0lRgxK8"
      }
    },
    {
      "cell_type": "code",
      "source": [
        "from sklearn.datasets import load_iris\n",
        "from sklearn.tree import DecisionTreeClassifier, export_graphviz\n",
        "from sklearn.model_selection import train_test_split\n",
        "import graphviz\n",
        "\n",
        "\n",
        "iris = load_iris()\n",
        "X = iris.data\n",
        "y = iris.target\n",
        "\n",
        "\n",
        "X_train, X_test, y_train, y_test = train_test_split(X, y, test_size=0.2, random_state=42)\n",
        "\n",
        "#train a Decision Tree Classifier\n",
        "clf = DecisionTreeClassifier(criterion='gini', random_state=42)\n",
        "clf.fit(X_train, y_train)\n",
        "\n",
        "#export the tree structure to a DOT format\n",
        "dot_data = export_graphviz(clf,\n",
        "                           out_file=None,\n",
        "                           feature_names=iris.feature_names,\n",
        "                           class_names=iris.target_names,\n",
        "                           filled=True, rounded=True,\n",
        "                           special_characters=True)\n",
        "\n",
        "# Visualize using graphviz\n",
        "graph = graphviz.Source(dot_data)\n",
        "graph\n"
      ],
      "metadata": {
        "colab": {
          "base_uri": "https://localhost:8080/",
          "height": 1000
        },
        "id": "tx1i6Vigg2zx",
        "outputId": "24ddb942-eca0-4acb-c486-15de54e7ad72"
      },
      "execution_count": 12,
      "outputs": [
        {
          "output_type": "execute_result",
          "data": {
            "image/svg+xml": "<?xml version=\"1.0\" encoding=\"UTF-8\" standalone=\"no\"?>\n<!DOCTYPE svg PUBLIC \"-//W3C//DTD SVG 1.1//EN\"\n \"http://www.w3.org/Graphics/SVG/1.1/DTD/svg11.dtd\">\n<!-- Generated by graphviz version 2.43.0 (0)\n -->\n<!-- Title: Tree Pages: 1 -->\n<svg width=\"751pt\" height=\"790pt\"\n viewBox=\"0.00 0.00 751.00 790.00\" xmlns=\"http://www.w3.org/2000/svg\" xmlns:xlink=\"http://www.w3.org/1999/xlink\">\n<g id=\"graph0\" class=\"graph\" transform=\"scale(1 1) rotate(0) translate(4 786)\">\n<title>Tree</title>\n<polygon fill=\"white\" stroke=\"transparent\" points=\"-4,4 -4,-786 747,-786 747,4 -4,4\"/>\n<!-- 0 -->\n<g id=\"node1\" class=\"node\">\n<title>0</title>\n<path fill=\"#fdfffd\" stroke=\"black\" d=\"M266,-782C266,-782 131,-782 131,-782 125,-782 119,-776 119,-770 119,-770 119,-711 119,-711 119,-705 125,-699 131,-699 131,-699 266,-699 266,-699 272,-699 278,-705 278,-711 278,-711 278,-770 278,-770 278,-776 272,-782 266,-782\"/>\n<text text-anchor=\"start\" x=\"127\" y=\"-766.8\" font-family=\"Helvetica,sans-Serif\" font-size=\"14.00\">petal length (cm) ≤ 2.45</text>\n<text text-anchor=\"start\" x=\"163\" y=\"-751.8\" font-family=\"Helvetica,sans-Serif\" font-size=\"14.00\">gini = 0.667</text>\n<text text-anchor=\"start\" x=\"153.5\" y=\"-736.8\" font-family=\"Helvetica,sans-Serif\" font-size=\"14.00\">samples = 120</text>\n<text text-anchor=\"start\" x=\"140.5\" y=\"-721.8\" font-family=\"Helvetica,sans-Serif\" font-size=\"14.00\">value = [40, 41, 39]</text>\n<text text-anchor=\"start\" x=\"146\" y=\"-706.8\" font-family=\"Helvetica,sans-Serif\" font-size=\"14.00\">class = versicolor</text>\n</g>\n<!-- 1 -->\n<g id=\"node2\" class=\"node\">\n<title>1</title>\n<path fill=\"#e58139\" stroke=\"black\" d=\"M167,-655.5C167,-655.5 74,-655.5 74,-655.5 68,-655.5 62,-649.5 62,-643.5 62,-643.5 62,-599.5 62,-599.5 62,-593.5 68,-587.5 74,-587.5 74,-587.5 167,-587.5 167,-587.5 173,-587.5 179,-593.5 179,-599.5 179,-599.5 179,-643.5 179,-643.5 179,-649.5 173,-655.5 167,-655.5\"/>\n<text text-anchor=\"start\" x=\"92.5\" y=\"-640.3\" font-family=\"Helvetica,sans-Serif\" font-size=\"14.00\">gini = 0.0</text>\n<text text-anchor=\"start\" x=\"79.5\" y=\"-625.3\" font-family=\"Helvetica,sans-Serif\" font-size=\"14.00\">samples = 40</text>\n<text text-anchor=\"start\" x=\"70\" y=\"-610.3\" font-family=\"Helvetica,sans-Serif\" font-size=\"14.00\">value = [40, 0, 0]</text>\n<text text-anchor=\"start\" x=\"77\" y=\"-595.3\" font-family=\"Helvetica,sans-Serif\" font-size=\"14.00\">class = setosa</text>\n</g>\n<!-- 0&#45;&gt;1 -->\n<g id=\"edge1\" class=\"edge\">\n<title>0&#45;&gt;1</title>\n<path fill=\"none\" stroke=\"black\" d=\"M171.44,-698.91C163.93,-687.65 155.78,-675.42 148.24,-664.11\"/>\n<polygon fill=\"black\" stroke=\"black\" points=\"151.07,-662.05 142.61,-655.67 145.25,-665.93 151.07,-662.05\"/>\n<text text-anchor=\"middle\" x=\"137.71\" y=\"-676.48\" font-family=\"Helvetica,sans-Serif\" font-size=\"14.00\">True</text>\n</g>\n<!-- 2 -->\n<g id=\"node3\" class=\"node\">\n<title>2</title>\n<path fill=\"#f5fef9\" stroke=\"black\" d=\"M344,-663C344,-663 209,-663 209,-663 203,-663 197,-657 197,-651 197,-651 197,-592 197,-592 197,-586 203,-580 209,-580 209,-580 344,-580 344,-580 350,-580 356,-586 356,-592 356,-592 356,-651 356,-651 356,-657 350,-663 344,-663\"/>\n<text text-anchor=\"start\" x=\"205\" y=\"-647.8\" font-family=\"Helvetica,sans-Serif\" font-size=\"14.00\">petal length (cm) ≤ 4.75</text>\n<text text-anchor=\"start\" x=\"248.5\" y=\"-632.8\" font-family=\"Helvetica,sans-Serif\" font-size=\"14.00\">gini = 0.5</text>\n<text text-anchor=\"start\" x=\"235.5\" y=\"-617.8\" font-family=\"Helvetica,sans-Serif\" font-size=\"14.00\">samples = 80</text>\n<text text-anchor=\"start\" x=\"222\" y=\"-602.8\" font-family=\"Helvetica,sans-Serif\" font-size=\"14.00\">value = [0, 41, 39]</text>\n<text text-anchor=\"start\" x=\"224\" y=\"-587.8\" font-family=\"Helvetica,sans-Serif\" font-size=\"14.00\">class = versicolor</text>\n</g>\n<!-- 0&#45;&gt;2 -->\n<g id=\"edge2\" class=\"edge\">\n<title>0&#45;&gt;2</title>\n<path fill=\"none\" stroke=\"black\" d=\"M225.56,-698.91C231.43,-690.1 237.7,-680.7 243.76,-671.61\"/>\n<polygon fill=\"black\" stroke=\"black\" points=\"246.85,-673.28 249.49,-663.02 241.03,-669.4 246.85,-673.28\"/>\n<text text-anchor=\"middle\" x=\"254.39\" y=\"-683.84\" font-family=\"Helvetica,sans-Serif\" font-size=\"14.00\">False</text>\n</g>\n<!-- 3 -->\n<g id=\"node4\" class=\"node\">\n<title>3</title>\n<path fill=\"#3ee684\" stroke=\"black\" d=\"M255.5,-544C255.5,-544 125.5,-544 125.5,-544 119.5,-544 113.5,-538 113.5,-532 113.5,-532 113.5,-473 113.5,-473 113.5,-467 119.5,-461 125.5,-461 125.5,-461 255.5,-461 255.5,-461 261.5,-461 267.5,-467 267.5,-473 267.5,-473 267.5,-532 267.5,-532 267.5,-538 261.5,-544 255.5,-544\"/>\n<text text-anchor=\"start\" x=\"121.5\" y=\"-528.8\" font-family=\"Helvetica,sans-Serif\" font-size=\"14.00\">petal width (cm) ≤ 1.65</text>\n<text text-anchor=\"start\" x=\"155\" y=\"-513.8\" font-family=\"Helvetica,sans-Serif\" font-size=\"14.00\">gini = 0.053</text>\n<text text-anchor=\"start\" x=\"149.5\" y=\"-498.8\" font-family=\"Helvetica,sans-Serif\" font-size=\"14.00\">samples = 37</text>\n<text text-anchor=\"start\" x=\"140\" y=\"-483.8\" font-family=\"Helvetica,sans-Serif\" font-size=\"14.00\">value = [0, 36, 1]</text>\n<text text-anchor=\"start\" x=\"138\" y=\"-468.8\" font-family=\"Helvetica,sans-Serif\" font-size=\"14.00\">class = versicolor</text>\n</g>\n<!-- 2&#45;&gt;3 -->\n<g id=\"edge3\" class=\"edge\">\n<title>2&#45;&gt;3</title>\n<path fill=\"none\" stroke=\"black\" d=\"M246.66,-579.91C240.13,-571.01 233.14,-561.51 226.39,-552.33\"/>\n<polygon fill=\"black\" stroke=\"black\" points=\"229.03,-550.01 220.28,-544.02 223.39,-554.15 229.03,-550.01\"/>\n</g>\n<!-- 6 -->\n<g id=\"node7\" class=\"node\">\n<title>6</title>\n<path fill=\"#9253e8\" stroke=\"black\" d=\"M427.5,-544C427.5,-544 297.5,-544 297.5,-544 291.5,-544 285.5,-538 285.5,-532 285.5,-532 285.5,-473 285.5,-473 285.5,-467 291.5,-461 297.5,-461 297.5,-461 427.5,-461 427.5,-461 433.5,-461 439.5,-467 439.5,-473 439.5,-473 439.5,-532 439.5,-532 439.5,-538 433.5,-544 427.5,-544\"/>\n<text text-anchor=\"start\" x=\"293.5\" y=\"-528.8\" font-family=\"Helvetica,sans-Serif\" font-size=\"14.00\">petal width (cm) ≤ 1.75</text>\n<text text-anchor=\"start\" x=\"327\" y=\"-513.8\" font-family=\"Helvetica,sans-Serif\" font-size=\"14.00\">gini = 0.206</text>\n<text text-anchor=\"start\" x=\"321.5\" y=\"-498.8\" font-family=\"Helvetica,sans-Serif\" font-size=\"14.00\">samples = 43</text>\n<text text-anchor=\"start\" x=\"312\" y=\"-483.8\" font-family=\"Helvetica,sans-Serif\" font-size=\"14.00\">value = [0, 5, 38]</text>\n<text text-anchor=\"start\" x=\"314\" y=\"-468.8\" font-family=\"Helvetica,sans-Serif\" font-size=\"14.00\">class = virginica</text>\n</g>\n<!-- 2&#45;&gt;6 -->\n<g id=\"edge6\" class=\"edge\">\n<title>2&#45;&gt;6</title>\n<path fill=\"none\" stroke=\"black\" d=\"M306.34,-579.91C312.87,-571.01 319.86,-561.51 326.61,-552.33\"/>\n<polygon fill=\"black\" stroke=\"black\" points=\"329.61,-554.15 332.72,-544.02 323.97,-550.01 329.61,-554.15\"/>\n</g>\n<!-- 4 -->\n<g id=\"node5\" class=\"node\">\n<title>4</title>\n<path fill=\"#39e581\" stroke=\"black\" d=\"M109,-417.5C109,-417.5 12,-417.5 12,-417.5 6,-417.5 0,-411.5 0,-405.5 0,-405.5 0,-361.5 0,-361.5 0,-355.5 6,-349.5 12,-349.5 12,-349.5 109,-349.5 109,-349.5 115,-349.5 121,-355.5 121,-361.5 121,-361.5 121,-405.5 121,-405.5 121,-411.5 115,-417.5 109,-417.5\"/>\n<text text-anchor=\"start\" x=\"32.5\" y=\"-402.3\" font-family=\"Helvetica,sans-Serif\" font-size=\"14.00\">gini = 0.0</text>\n<text text-anchor=\"start\" x=\"19.5\" y=\"-387.3\" font-family=\"Helvetica,sans-Serif\" font-size=\"14.00\">samples = 36</text>\n<text text-anchor=\"start\" x=\"10\" y=\"-372.3\" font-family=\"Helvetica,sans-Serif\" font-size=\"14.00\">value = [0, 36, 0]</text>\n<text text-anchor=\"start\" x=\"8\" y=\"-357.3\" font-family=\"Helvetica,sans-Serif\" font-size=\"14.00\">class = versicolor</text>\n</g>\n<!-- 3&#45;&gt;4 -->\n<g id=\"edge4\" class=\"edge\">\n<title>3&#45;&gt;4</title>\n<path fill=\"none\" stroke=\"black\" d=\"M145.4,-460.91C132.28,-449.1 117.96,-436.22 104.89,-424.45\"/>\n<polygon fill=\"black\" stroke=\"black\" points=\"107.13,-421.76 97.35,-417.67 102.44,-426.96 107.13,-421.76\"/>\n</g>\n<!-- 5 -->\n<g id=\"node6\" class=\"node\">\n<title>5</title>\n<path fill=\"#8139e5\" stroke=\"black\" d=\"M240,-417.5C240,-417.5 151,-417.5 151,-417.5 145,-417.5 139,-411.5 139,-405.5 139,-405.5 139,-361.5 139,-361.5 139,-355.5 145,-349.5 151,-349.5 151,-349.5 240,-349.5 240,-349.5 246,-349.5 252,-355.5 252,-361.5 252,-361.5 252,-405.5 252,-405.5 252,-411.5 246,-417.5 240,-417.5\"/>\n<text text-anchor=\"start\" x=\"167.5\" y=\"-402.3\" font-family=\"Helvetica,sans-Serif\" font-size=\"14.00\">gini = 0.0</text>\n<text text-anchor=\"start\" x=\"158\" y=\"-387.3\" font-family=\"Helvetica,sans-Serif\" font-size=\"14.00\">samples = 1</text>\n<text text-anchor=\"start\" x=\"148.5\" y=\"-372.3\" font-family=\"Helvetica,sans-Serif\" font-size=\"14.00\">value = [0, 0, 1]</text>\n<text text-anchor=\"start\" x=\"147\" y=\"-357.3\" font-family=\"Helvetica,sans-Serif\" font-size=\"14.00\">class = virginica</text>\n</g>\n<!-- 3&#45;&gt;5 -->\n<g id=\"edge5\" class=\"edge\">\n<title>3&#45;&gt;5</title>\n<path fill=\"none\" stroke=\"black\" d=\"M192.23,-460.91C192.69,-450.2 193.19,-438.62 193.65,-427.78\"/>\n<polygon fill=\"black\" stroke=\"black\" points=\"197.15,-427.81 194.08,-417.67 190.16,-427.51 197.15,-427.81\"/>\n</g>\n<!-- 7 -->\n<g id=\"node8\" class=\"node\">\n<title>7</title>\n<path fill=\"#ffffff\" stroke=\"black\" d=\"M426,-425C426,-425 291,-425 291,-425 285,-425 279,-419 279,-413 279,-413 279,-354 279,-354 279,-348 285,-342 291,-342 291,-342 426,-342 426,-342 432,-342 438,-348 438,-354 438,-354 438,-413 438,-413 438,-419 432,-425 426,-425\"/>\n<text text-anchor=\"start\" x=\"287\" y=\"-409.8\" font-family=\"Helvetica,sans-Serif\" font-size=\"14.00\">petal length (cm) ≤ 4.95</text>\n<text text-anchor=\"start\" x=\"330.5\" y=\"-394.8\" font-family=\"Helvetica,sans-Serif\" font-size=\"14.00\">gini = 0.5</text>\n<text text-anchor=\"start\" x=\"321\" y=\"-379.8\" font-family=\"Helvetica,sans-Serif\" font-size=\"14.00\">samples = 8</text>\n<text text-anchor=\"start\" x=\"311.5\" y=\"-364.8\" font-family=\"Helvetica,sans-Serif\" font-size=\"14.00\">value = [0, 4, 4]</text>\n<text text-anchor=\"start\" x=\"306\" y=\"-349.8\" font-family=\"Helvetica,sans-Serif\" font-size=\"14.00\">class = versicolor</text>\n</g>\n<!-- 6&#45;&gt;7 -->\n<g id=\"edge7\" class=\"edge\">\n<title>6&#45;&gt;7</title>\n<path fill=\"none\" stroke=\"black\" d=\"M361.11,-460.91C360.83,-452.56 360.52,-443.67 360.23,-435.02\"/>\n<polygon fill=\"black\" stroke=\"black\" points=\"363.73,-434.9 359.89,-425.02 356.73,-435.13 363.73,-434.9\"/>\n</g>\n<!-- 14 -->\n<g id=\"node15\" class=\"node\">\n<title>14</title>\n<path fill=\"#853fe6\" stroke=\"black\" d=\"M603,-425C603,-425 468,-425 468,-425 462,-425 456,-419 456,-413 456,-413 456,-354 456,-354 456,-348 462,-342 468,-342 468,-342 603,-342 603,-342 609,-342 615,-348 615,-354 615,-354 615,-413 615,-413 615,-419 609,-425 603,-425\"/>\n<text text-anchor=\"start\" x=\"464\" y=\"-409.8\" font-family=\"Helvetica,sans-Serif\" font-size=\"14.00\">petal length (cm) ≤ 4.85</text>\n<text text-anchor=\"start\" x=\"500\" y=\"-394.8\" font-family=\"Helvetica,sans-Serif\" font-size=\"14.00\">gini = 0.056</text>\n<text text-anchor=\"start\" x=\"494.5\" y=\"-379.8\" font-family=\"Helvetica,sans-Serif\" font-size=\"14.00\">samples = 35</text>\n<text text-anchor=\"start\" x=\"485\" y=\"-364.8\" font-family=\"Helvetica,sans-Serif\" font-size=\"14.00\">value = [0, 1, 34]</text>\n<text text-anchor=\"start\" x=\"487\" y=\"-349.8\" font-family=\"Helvetica,sans-Serif\" font-size=\"14.00\">class = virginica</text>\n</g>\n<!-- 6&#45;&gt;14 -->\n<g id=\"edge14\" class=\"edge\">\n<title>6&#45;&gt;14</title>\n<path fill=\"none\" stroke=\"black\" d=\"M422.52,-460.91C436.88,-451.2 452.31,-440.76 467.02,-430.81\"/>\n<polygon fill=\"black\" stroke=\"black\" points=\"469.26,-433.52 475.58,-425.02 465.34,-427.72 469.26,-433.52\"/>\n</g>\n<!-- 8 -->\n<g id=\"node9\" class=\"node\">\n<title>8</title>\n<path fill=\"#39e581\" stroke=\"black\" d=\"M254,-298.5C254,-298.5 157,-298.5 157,-298.5 151,-298.5 145,-292.5 145,-286.5 145,-286.5 145,-242.5 145,-242.5 145,-236.5 151,-230.5 157,-230.5 157,-230.5 254,-230.5 254,-230.5 260,-230.5 266,-236.5 266,-242.5 266,-242.5 266,-286.5 266,-286.5 266,-292.5 260,-298.5 254,-298.5\"/>\n<text text-anchor=\"start\" x=\"177.5\" y=\"-283.3\" font-family=\"Helvetica,sans-Serif\" font-size=\"14.00\">gini = 0.0</text>\n<text text-anchor=\"start\" x=\"168\" y=\"-268.3\" font-family=\"Helvetica,sans-Serif\" font-size=\"14.00\">samples = 2</text>\n<text text-anchor=\"start\" x=\"158.5\" y=\"-253.3\" font-family=\"Helvetica,sans-Serif\" font-size=\"14.00\">value = [0, 2, 0]</text>\n<text text-anchor=\"start\" x=\"153\" y=\"-238.3\" font-family=\"Helvetica,sans-Serif\" font-size=\"14.00\">class = versicolor</text>\n</g>\n<!-- 7&#45;&gt;8 -->\n<g id=\"edge8\" class=\"edge\">\n<title>7&#45;&gt;8</title>\n<path fill=\"none\" stroke=\"black\" d=\"M305.42,-341.91C289.69,-329.88 272.5,-316.73 256.88,-304.79\"/>\n<polygon fill=\"black\" stroke=\"black\" points=\"258.94,-301.96 248.87,-298.67 254.69,-307.52 258.94,-301.96\"/>\n</g>\n<!-- 9 -->\n<g id=\"node10\" class=\"node\">\n<title>9</title>\n<path fill=\"#c09cf2\" stroke=\"black\" d=\"M426.5,-306C426.5,-306 296.5,-306 296.5,-306 290.5,-306 284.5,-300 284.5,-294 284.5,-294 284.5,-235 284.5,-235 284.5,-229 290.5,-223 296.5,-223 296.5,-223 426.5,-223 426.5,-223 432.5,-223 438.5,-229 438.5,-235 438.5,-235 438.5,-294 438.5,-294 438.5,-300 432.5,-306 426.5,-306\"/>\n<text text-anchor=\"start\" x=\"292.5\" y=\"-290.8\" font-family=\"Helvetica,sans-Serif\" font-size=\"14.00\">petal width (cm) ≤ 1.55</text>\n<text text-anchor=\"start\" x=\"326\" y=\"-275.8\" font-family=\"Helvetica,sans-Serif\" font-size=\"14.00\">gini = 0.444</text>\n<text text-anchor=\"start\" x=\"324\" y=\"-260.8\" font-family=\"Helvetica,sans-Serif\" font-size=\"14.00\">samples = 6</text>\n<text text-anchor=\"start\" x=\"314.5\" y=\"-245.8\" font-family=\"Helvetica,sans-Serif\" font-size=\"14.00\">value = [0, 2, 4]</text>\n<text text-anchor=\"start\" x=\"313\" y=\"-230.8\" font-family=\"Helvetica,sans-Serif\" font-size=\"14.00\">class = virginica</text>\n</g>\n<!-- 7&#45;&gt;9 -->\n<g id=\"edge9\" class=\"edge\">\n<title>7&#45;&gt;9</title>\n<path fill=\"none\" stroke=\"black\" d=\"M359.54,-341.91C359.75,-333.56 359.98,-324.67 360.2,-316.02\"/>\n<polygon fill=\"black\" stroke=\"black\" points=\"363.7,-316.11 360.46,-306.02 356.71,-315.93 363.7,-316.11\"/>\n</g>\n<!-- 10 -->\n<g id=\"node11\" class=\"node\">\n<title>10</title>\n<path fill=\"#8139e5\" stroke=\"black\" d=\"M256,-179.5C256,-179.5 167,-179.5 167,-179.5 161,-179.5 155,-173.5 155,-167.5 155,-167.5 155,-123.5 155,-123.5 155,-117.5 161,-111.5 167,-111.5 167,-111.5 256,-111.5 256,-111.5 262,-111.5 268,-117.5 268,-123.5 268,-123.5 268,-167.5 268,-167.5 268,-173.5 262,-179.5 256,-179.5\"/>\n<text text-anchor=\"start\" x=\"183.5\" y=\"-164.3\" font-family=\"Helvetica,sans-Serif\" font-size=\"14.00\">gini = 0.0</text>\n<text text-anchor=\"start\" x=\"174\" y=\"-149.3\" font-family=\"Helvetica,sans-Serif\" font-size=\"14.00\">samples = 3</text>\n<text text-anchor=\"start\" x=\"164.5\" y=\"-134.3\" font-family=\"Helvetica,sans-Serif\" font-size=\"14.00\">value = [0, 0, 3]</text>\n<text text-anchor=\"start\" x=\"163\" y=\"-119.3\" font-family=\"Helvetica,sans-Serif\" font-size=\"14.00\">class = virginica</text>\n</g>\n<!-- 9&#45;&gt;10 -->\n<g id=\"edge10\" class=\"edge\">\n<title>9&#45;&gt;10</title>\n<path fill=\"none\" stroke=\"black\" d=\"M309.46,-222.91C294.18,-210.99 277.49,-197.98 262.29,-186.12\"/>\n<polygon fill=\"black\" stroke=\"black\" points=\"264.06,-183.06 254.02,-179.67 259.75,-188.58 264.06,-183.06\"/>\n</g>\n<!-- 11 -->\n<g id=\"node12\" class=\"node\">\n<title>11</title>\n<path fill=\"#9cf2c0\" stroke=\"black\" d=\"M433,-187C433,-187 298,-187 298,-187 292,-187 286,-181 286,-175 286,-175 286,-116 286,-116 286,-110 292,-104 298,-104 298,-104 433,-104 433,-104 439,-104 445,-110 445,-116 445,-116 445,-175 445,-175 445,-181 439,-187 433,-187\"/>\n<text text-anchor=\"start\" x=\"294\" y=\"-171.8\" font-family=\"Helvetica,sans-Serif\" font-size=\"14.00\">petal length (cm) ≤ 5.45</text>\n<text text-anchor=\"start\" x=\"330\" y=\"-156.8\" font-family=\"Helvetica,sans-Serif\" font-size=\"14.00\">gini = 0.444</text>\n<text text-anchor=\"start\" x=\"328\" y=\"-141.8\" font-family=\"Helvetica,sans-Serif\" font-size=\"14.00\">samples = 3</text>\n<text text-anchor=\"start\" x=\"318.5\" y=\"-126.8\" font-family=\"Helvetica,sans-Serif\" font-size=\"14.00\">value = [0, 2, 1]</text>\n<text text-anchor=\"start\" x=\"313\" y=\"-111.8\" font-family=\"Helvetica,sans-Serif\" font-size=\"14.00\">class = versicolor</text>\n</g>\n<!-- 9&#45;&gt;11 -->\n<g id=\"edge11\" class=\"edge\">\n<title>9&#45;&gt;11</title>\n<path fill=\"none\" stroke=\"black\" d=\"M362.89,-222.91C363.17,-214.56 363.48,-205.67 363.77,-197.02\"/>\n<polygon fill=\"black\" stroke=\"black\" points=\"367.27,-197.13 364.11,-187.02 360.27,-196.9 367.27,-197.13\"/>\n</g>\n<!-- 12 -->\n<g id=\"node13\" class=\"node\">\n<title>12</title>\n<path fill=\"#39e581\" stroke=\"black\" d=\"M347,-68C347,-68 250,-68 250,-68 244,-68 238,-62 238,-56 238,-56 238,-12 238,-12 238,-6 244,0 250,0 250,0 347,0 347,0 353,0 359,-6 359,-12 359,-12 359,-56 359,-56 359,-62 353,-68 347,-68\"/>\n<text text-anchor=\"start\" x=\"270.5\" y=\"-52.8\" font-family=\"Helvetica,sans-Serif\" font-size=\"14.00\">gini = 0.0</text>\n<text text-anchor=\"start\" x=\"261\" y=\"-37.8\" font-family=\"Helvetica,sans-Serif\" font-size=\"14.00\">samples = 2</text>\n<text text-anchor=\"start\" x=\"251.5\" y=\"-22.8\" font-family=\"Helvetica,sans-Serif\" font-size=\"14.00\">value = [0, 2, 0]</text>\n<text text-anchor=\"start\" x=\"246\" y=\"-7.8\" font-family=\"Helvetica,sans-Serif\" font-size=\"14.00\">class = versicolor</text>\n</g>\n<!-- 11&#45;&gt;12 -->\n<g id=\"edge12\" class=\"edge\">\n<title>11&#45;&gt;12</title>\n<path fill=\"none\" stroke=\"black\" d=\"M340.55,-103.73C335.19,-94.97 329.52,-85.7 324.14,-76.91\"/>\n<polygon fill=\"black\" stroke=\"black\" points=\"327.08,-75 318.88,-68.3 321.11,-78.66 327.08,-75\"/>\n</g>\n<!-- 13 -->\n<g id=\"node14\" class=\"node\">\n<title>13</title>\n<path fill=\"#8139e5\" stroke=\"black\" d=\"M478,-68C478,-68 389,-68 389,-68 383,-68 377,-62 377,-56 377,-56 377,-12 377,-12 377,-6 383,0 389,0 389,0 478,0 478,0 484,0 490,-6 490,-12 490,-12 490,-56 490,-56 490,-62 484,-68 478,-68\"/>\n<text text-anchor=\"start\" x=\"405.5\" y=\"-52.8\" font-family=\"Helvetica,sans-Serif\" font-size=\"14.00\">gini = 0.0</text>\n<text text-anchor=\"start\" x=\"396\" y=\"-37.8\" font-family=\"Helvetica,sans-Serif\" font-size=\"14.00\">samples = 1</text>\n<text text-anchor=\"start\" x=\"386.5\" y=\"-22.8\" font-family=\"Helvetica,sans-Serif\" font-size=\"14.00\">value = [0, 0, 1]</text>\n<text text-anchor=\"start\" x=\"385\" y=\"-7.8\" font-family=\"Helvetica,sans-Serif\" font-size=\"14.00\">class = virginica</text>\n</g>\n<!-- 11&#45;&gt;13 -->\n<g id=\"edge13\" class=\"edge\">\n<title>11&#45;&gt;13</title>\n<path fill=\"none\" stroke=\"black\" d=\"M390.82,-103.73C396.26,-94.97 402.01,-85.7 407.48,-76.91\"/>\n<polygon fill=\"black\" stroke=\"black\" points=\"410.52,-78.64 412.82,-68.3 404.57,-74.95 410.52,-78.64\"/>\n</g>\n<!-- 15 -->\n<g id=\"node16\" class=\"node\">\n<title>15</title>\n<path fill=\"#c09cf2\" stroke=\"black\" d=\"M596,-306C596,-306 471,-306 471,-306 465,-306 459,-300 459,-294 459,-294 459,-235 459,-235 459,-229 465,-223 471,-223 471,-223 596,-223 596,-223 602,-223 608,-229 608,-235 608,-235 608,-294 608,-294 608,-300 602,-306 596,-306\"/>\n<text text-anchor=\"start\" x=\"467\" y=\"-290.8\" font-family=\"Helvetica,sans-Serif\" font-size=\"14.00\">sepal width (cm) ≤ 3.1</text>\n<text text-anchor=\"start\" x=\"498\" y=\"-275.8\" font-family=\"Helvetica,sans-Serif\" font-size=\"14.00\">gini = 0.444</text>\n<text text-anchor=\"start\" x=\"496\" y=\"-260.8\" font-family=\"Helvetica,sans-Serif\" font-size=\"14.00\">samples = 3</text>\n<text text-anchor=\"start\" x=\"486.5\" y=\"-245.8\" font-family=\"Helvetica,sans-Serif\" font-size=\"14.00\">value = [0, 1, 2]</text>\n<text text-anchor=\"start\" x=\"485\" y=\"-230.8\" font-family=\"Helvetica,sans-Serif\" font-size=\"14.00\">class = virginica</text>\n</g>\n<!-- 14&#45;&gt;15 -->\n<g id=\"edge15\" class=\"edge\">\n<title>14&#45;&gt;15</title>\n<path fill=\"none\" stroke=\"black\" d=\"M534.81,-341.91C534.66,-333.56 534.51,-324.67 534.36,-316.02\"/>\n<polygon fill=\"black\" stroke=\"black\" points=\"537.86,-315.96 534.19,-306.02 530.86,-316.08 537.86,-315.96\"/>\n</g>\n<!-- 18 -->\n<g id=\"node19\" class=\"node\">\n<title>18</title>\n<path fill=\"#8139e5\" stroke=\"black\" d=\"M731,-298.5C731,-298.5 638,-298.5 638,-298.5 632,-298.5 626,-292.5 626,-286.5 626,-286.5 626,-242.5 626,-242.5 626,-236.5 632,-230.5 638,-230.5 638,-230.5 731,-230.5 731,-230.5 737,-230.5 743,-236.5 743,-242.5 743,-242.5 743,-286.5 743,-286.5 743,-292.5 737,-298.5 731,-298.5\"/>\n<text text-anchor=\"start\" x=\"656.5\" y=\"-283.3\" font-family=\"Helvetica,sans-Serif\" font-size=\"14.00\">gini = 0.0</text>\n<text text-anchor=\"start\" x=\"643.5\" y=\"-268.3\" font-family=\"Helvetica,sans-Serif\" font-size=\"14.00\">samples = 32</text>\n<text text-anchor=\"start\" x=\"634\" y=\"-253.3\" font-family=\"Helvetica,sans-Serif\" font-size=\"14.00\">value = [0, 0, 32]</text>\n<text text-anchor=\"start\" x=\"636\" y=\"-238.3\" font-family=\"Helvetica,sans-Serif\" font-size=\"14.00\">class = virginica</text>\n</g>\n<!-- 14&#45;&gt;18 -->\n<g id=\"edge18\" class=\"edge\">\n<title>14&#45;&gt;18</title>\n<path fill=\"none\" stroke=\"black\" d=\"M587.19,-341.91C602.37,-329.99 618.95,-316.98 634.04,-305.12\"/>\n<polygon fill=\"black\" stroke=\"black\" points=\"636.56,-307.6 642.26,-298.67 632.24,-302.09 636.56,-307.6\"/>\n</g>\n<!-- 16 -->\n<g id=\"node17\" class=\"node\">\n<title>16</title>\n<path fill=\"#8139e5\" stroke=\"black\" d=\"M575,-179.5C575,-179.5 486,-179.5 486,-179.5 480,-179.5 474,-173.5 474,-167.5 474,-167.5 474,-123.5 474,-123.5 474,-117.5 480,-111.5 486,-111.5 486,-111.5 575,-111.5 575,-111.5 581,-111.5 587,-117.5 587,-123.5 587,-123.5 587,-167.5 587,-167.5 587,-173.5 581,-179.5 575,-179.5\"/>\n<text text-anchor=\"start\" x=\"502.5\" y=\"-164.3\" font-family=\"Helvetica,sans-Serif\" font-size=\"14.00\">gini = 0.0</text>\n<text text-anchor=\"start\" x=\"493\" y=\"-149.3\" font-family=\"Helvetica,sans-Serif\" font-size=\"14.00\">samples = 2</text>\n<text text-anchor=\"start\" x=\"483.5\" y=\"-134.3\" font-family=\"Helvetica,sans-Serif\" font-size=\"14.00\">value = [0, 0, 2]</text>\n<text text-anchor=\"start\" x=\"482\" y=\"-119.3\" font-family=\"Helvetica,sans-Serif\" font-size=\"14.00\">class = virginica</text>\n</g>\n<!-- 15&#45;&gt;16 -->\n<g id=\"edge16\" class=\"edge\">\n<title>15&#45;&gt;16</title>\n<path fill=\"none\" stroke=\"black\" d=\"M532.46,-222.91C532.18,-212.2 531.89,-200.62 531.61,-189.78\"/>\n<polygon fill=\"black\" stroke=\"black\" points=\"535.11,-189.57 531.35,-179.67 528.11,-189.75 535.11,-189.57\"/>\n</g>\n<!-- 17 -->\n<g id=\"node18\" class=\"node\">\n<title>17</title>\n<path fill=\"#39e581\" stroke=\"black\" d=\"M714,-179.5C714,-179.5 617,-179.5 617,-179.5 611,-179.5 605,-173.5 605,-167.5 605,-167.5 605,-123.5 605,-123.5 605,-117.5 611,-111.5 617,-111.5 617,-111.5 714,-111.5 714,-111.5 720,-111.5 726,-117.5 726,-123.5 726,-123.5 726,-167.5 726,-167.5 726,-173.5 720,-179.5 714,-179.5\"/>\n<text text-anchor=\"start\" x=\"637.5\" y=\"-164.3\" font-family=\"Helvetica,sans-Serif\" font-size=\"14.00\">gini = 0.0</text>\n<text text-anchor=\"start\" x=\"628\" y=\"-149.3\" font-family=\"Helvetica,sans-Serif\" font-size=\"14.00\">samples = 1</text>\n<text text-anchor=\"start\" x=\"618.5\" y=\"-134.3\" font-family=\"Helvetica,sans-Serif\" font-size=\"14.00\">value = [0, 1, 0]</text>\n<text text-anchor=\"start\" x=\"613\" y=\"-119.3\" font-family=\"Helvetica,sans-Serif\" font-size=\"14.00\">class = versicolor</text>\n</g>\n<!-- 15&#45;&gt;17 -->\n<g id=\"edge17\" class=\"edge\">\n<title>15&#45;&gt;17</title>\n<path fill=\"none\" stroke=\"black\" d=\"M579.3,-222.91C592.62,-211.1 607.15,-198.22 620.43,-186.45\"/>\n<polygon fill=\"black\" stroke=\"black\" points=\"622.92,-188.92 628.08,-179.67 618.28,-183.68 622.92,-188.92\"/>\n</g>\n</g>\n</svg>\n",
            "text/plain": [
              "<graphviz.sources.Source at 0x7f7524b696d0>"
            ]
          },
          "metadata": {},
          "execution_count": 12
        }
      ]
    },
    {
      "cell_type": "markdown",
      "source": [
        "## **Q21.Write a Python program to train a Decision Tree Classifier with a maximum depth of 3 and compare its accuracy with a fully grown tree.**"
      ],
      "metadata": {
        "id": "TR7wkKkyiN6L"
      }
    },
    {
      "cell_type": "code",
      "source": [
        "from sklearn.datasets import load_iris\n",
        "from sklearn.tree import DecisionTreeClassifier\n",
        "from sklearn.model_selection import train_test_split\n",
        "from sklearn.metrics import accuracy_score\n",
        "\n",
        "\n",
        "iris = load_iris()\n",
        "X = iris.data\n",
        "y = iris.target\n",
        "\n",
        "\n",
        "X_train, X_test, y_train, y_test = train_test_split(X, y, test_size=0.2, random_state=42)\n",
        "\n",
        "#Decision Tree with max depth = 3\n",
        "tree_depth_3 = DecisionTreeClassifier(max_depth=3, random_state=42)\n",
        "tree_depth_3.fit(X_train, y_train)\n",
        "pred_depth_3 = tree_depth_3.predict(X_test)\n",
        "accuracy_depth_3 = accuracy_score(y_test, pred_depth_3)\n",
        "\n",
        "#fully grown Decision Tree (no depth limit)\n",
        "tree_full = DecisionTreeClassifier(random_state=42)\n",
        "tree_full.fit(X_train, y_train)\n",
        "pred_full = tree_full.predict(X_test)\n",
        "accuracy_full = accuracy_score(y_test, pred_full)\n",
        "\n",
        "#compare accuracies\n",
        "print(f\"Accuracy with max_depth=3: {accuracy_depth_3:.2f}\")\n",
        "print(f\"Accuracy with fully grown tree: {accuracy_full:.2f}\")\n"
      ],
      "metadata": {
        "colab": {
          "base_uri": "https://localhost:8080/"
        },
        "id": "nOJjYdu8i57H",
        "outputId": "49fa20e9-6800-450c-cf85-4f932a4fe1f0"
      },
      "execution_count": 13,
      "outputs": [
        {
          "output_type": "stream",
          "name": "stdout",
          "text": [
            "Accuracy with max_depth=3: 1.00\n",
            "Accuracy with fully grown tree: 1.00\n"
          ]
        }
      ]
    },
    {
      "cell_type": "markdown",
      "source": [
        "## **Q22.Write a Python program to train a Decision Tree Classifier using min_samples_split=5 and compare its accuracy with a default tree**"
      ],
      "metadata": {
        "id": "BBxhocxsjJNy"
      }
    },
    {
      "cell_type": "code",
      "source": [
        "from sklearn.datasets import load_iris\n",
        "from sklearn.tree import DecisionTreeClassifier\n",
        "from sklearn.model_selection import train_test_split\n",
        "from sklearn.metrics import accuracy_score\n",
        "\n",
        "\n",
        "iris = load_iris()\n",
        "X = iris.data\n",
        "y = iris.target\n",
        "\n",
        "\n",
        "X_train, X_test, y_train, y_test = train_test_split(X, y, test_size=0.2, random_state=42)\n",
        "\n",
        "#decision Tree with min_samples_split=5\n",
        "tree_min_split = DecisionTreeClassifier(min_samples_split=5, random_state=42)\n",
        "tree_min_split.fit(X_train, y_train)\n",
        "y_pred_min_split = tree_min_split.predict(X_test)\n",
        "accuracy_min_split = accuracy_score(y_test, y_pred_min_split)\n",
        "\n",
        "#default Decision Tree\n",
        "tree_default = DecisionTreeClassifier(random_state=42)\n",
        "tree_default.fit(X_train, y_train)\n",
        "y_pred_default = tree_default.predict(X_test)\n",
        "accuracy_default = accuracy_score(y_test, y_pred_default)\n",
        "\n",
        "#print and compare accuracies\n",
        "print(f\"Accuracy with min_samples_split=5: {accuracy_min_split:.2f}\")\n",
        "print(f\"Accuracy with default tree: {accuracy_default:.2f}\")\n"
      ],
      "metadata": {
        "colab": {
          "base_uri": "https://localhost:8080/"
        },
        "id": "K1YxyMgMjQHM",
        "outputId": "0484979b-99fd-41f3-82ed-9da6340fcf14"
      },
      "execution_count": 14,
      "outputs": [
        {
          "output_type": "stream",
          "name": "stdout",
          "text": [
            "Accuracy with min_samples_split=5: 1.00\n",
            "Accuracy with default tree: 1.00\n"
          ]
        }
      ]
    },
    {
      "cell_type": "markdown",
      "source": [
        "## **Q23.Write a Python program to apply feature scaling before training a Decision Tree Classifier and compare its accuracy with unscaled data.**"
      ],
      "metadata": {
        "id": "wTGZ4lYAkT2m"
      }
    },
    {
      "cell_type": "code",
      "source": [
        "from sklearn.datasets import load_iris\n",
        "from sklearn.model_selection import train_test_split\n",
        "from sklearn.tree import DecisionTreeClassifier\n",
        "from sklearn.preprocessing import StandardScaler\n",
        "from sklearn.metrics import accuracy_score\n",
        "\n",
        "\n",
        "iris = load_iris()\n",
        "X = iris.data\n",
        "y = iris.target\n",
        "\n",
        "\n",
        "X_train, X_test, y_train, y_test = train_test_split(X, y, test_size=0.2, random_state=42)\n",
        "\n",
        "#Without scaling\n",
        "clf_unscaled = DecisionTreeClassifier(random_state=42)\n",
        "clf_unscaled.fit(X_train, y_train)\n",
        "y_pred_unscaled = clf_unscaled.predict(X_test)\n",
        "accuracy_unscaled = accuracy_score(y_test, y_pred_unscaled)\n",
        "\n",
        "#With feature scaling\n",
        "scaler = StandardScaler()\n",
        "X_train_scaled = scaler.fit_transform(X_train)\n",
        "X_test_scaled = scaler.transform(X_test)\n",
        "\n",
        "clf_scaled = DecisionTreeClassifier(random_state=42)\n",
        "clf_scaled.fit(X_train_scaled, y_train)\n",
        "y_pred_scaled = clf_scaled.predict(X_test_scaled)\n",
        "accuracy_scaled = accuracy_score(y_test, y_pred_scaled)\n",
        "\n",
        "#print the accuracies\n",
        "print(f\"Accuracy without feature scaling: {accuracy_unscaled:.2f}\")\n",
        "print(f\"Accuracy with feature scaling: {accuracy_scaled:.2f}\")\n"
      ],
      "metadata": {
        "colab": {
          "base_uri": "https://localhost:8080/"
        },
        "id": "yE0j62HtkZfi",
        "outputId": "e77be0f5-dc54-4483-df49-de14d6786937"
      },
      "execution_count": 15,
      "outputs": [
        {
          "output_type": "stream",
          "name": "stdout",
          "text": [
            "Accuracy without feature scaling: 1.00\n",
            "Accuracy with feature scaling: 1.00\n"
          ]
        }
      ]
    },
    {
      "cell_type": "markdown",
      "source": [
        "## **Q24.Write a Python program to train a Decision Tree Classifier using One-vs-Rest (OvR) strategy for multiclass classification**"
      ],
      "metadata": {
        "id": "duLhMg5SlBDh"
      }
    },
    {
      "cell_type": "code",
      "source": [
        "from sklearn.datasets import load_iris\n",
        "from sklearn.model_selection import train_test_split\n",
        "from sklearn.tree import DecisionTreeClassifier\n",
        "from sklearn.multiclass import OneVsRestClassifier\n",
        "from sklearn.metrics import accuracy_score\n",
        "\n",
        "\n",
        "iris = load_iris()\n",
        "X = iris.data\n",
        "y = iris.target\n",
        "\n",
        "X_train, X_test, y_train, y_test = train_test_split(X, y, test_size=0.2, random_state=42)\n",
        "\n",
        "#initialize Decision Tree classifier wrapped in One-vs-Rest strategy\n",
        "ovr_clf = OneVsRestClassifier(DecisionTreeClassifier(random_state=42))\n",
        "\n",
        "#train the model\n",
        "ovr_clf.fit(X_train, y_train)\n",
        "\n",
        "#predict on test set\n",
        "y_pred = ovr_clf.predict(X_test)\n",
        "\n",
        "#calculate and print accuracy\n",
        "accuracy = accuracy_score(y_test, y_pred)\n",
        "print(f\"Accuracy of Decision Tree with One-vs-Rest strategy: {accuracy:.2f}\")\n"
      ],
      "metadata": {
        "colab": {
          "base_uri": "https://localhost:8080/"
        },
        "id": "9FpJ0btClHVt",
        "outputId": "f2f09f06-0635-499e-f4ca-7b813ab128ee"
      },
      "execution_count": 16,
      "outputs": [
        {
          "output_type": "stream",
          "name": "stdout",
          "text": [
            "Accuracy of Decision Tree with One-vs-Rest strategy: 1.00\n"
          ]
        }
      ]
    },
    {
      "cell_type": "markdown",
      "source": [
        "## **Q25.Write a Python program to train a Decision Tree Classifier and display the feature importance scores.**"
      ],
      "metadata": {
        "id": "XUdl1w4tlY__"
      }
    },
    {
      "cell_type": "code",
      "source": [
        "from sklearn.datasets import load_iris\n",
        "from sklearn.tree import DecisionTreeClassifier\n",
        "from sklearn.model_selection import train_test_split\n",
        "\n",
        "\n",
        "iris = load_iris()\n",
        "X = iris.data\n",
        "y = iris.target\n",
        "\n",
        "X_train, X_test, y_train, y_test = train_test_split(X, y, test_size=0.2, random_state=42)\n",
        "\n",
        "#train Decision Tree Classifier\n",
        "clf = DecisionTreeClassifier(random_state=42)\n",
        "clf.fit(X_train, y_train)\n",
        "\n",
        "#display feature importance scores\n",
        "for name, importance in zip(iris.feature_names, clf.feature_importances_):\n",
        "    print(f\"{name}: {importance:.4f}\")\n"
      ],
      "metadata": {
        "colab": {
          "base_uri": "https://localhost:8080/"
        },
        "id": "fccoGNffldc_",
        "outputId": "a6407cf2-c82c-4656-8940-83c0192a5f9e"
      },
      "execution_count": 17,
      "outputs": [
        {
          "output_type": "stream",
          "name": "stdout",
          "text": [
            "sepal length (cm): 0.0000\n",
            "sepal width (cm): 0.0167\n",
            "petal length (cm): 0.9061\n",
            "petal width (cm): 0.0772\n"
          ]
        }
      ]
    },
    {
      "cell_type": "markdown",
      "source": [
        "## **Q26.Write a Python program to train a Decision Tree Regressor with max_depth=5 and compare its performance with an unrestricted tree.**"
      ],
      "metadata": {
        "id": "7fjZl5U3nFPo"
      }
    },
    {
      "cell_type": "code",
      "source": [
        "from sklearn.datasets import fetch_california_housing\n",
        "from sklearn.model_selection import train_test_split\n",
        "from sklearn.tree import DecisionTreeRegressor\n",
        "from sklearn.metrics import mean_squared_error\n",
        "\n",
        "data = fetch_california_housing()\n",
        "X = data.data\n",
        "y = data.target\n",
        "\n",
        "X_train, X_test, y_train, y_test = train_test_split(X, y, test_size=0.2, random_state=42)\n",
        "\n",
        "#train Decision Tree Regressor with max_depth=5\n",
        "tree_limited = DecisionTreeRegressor(max_depth=5, random_state=42)\n",
        "tree_limited.fit(X_train, y_train)\n",
        "y_pred_limited = tree_limited.predict(X_test)\n",
        "mse_limited = mean_squared_error(y_test, y_pred_limited)\n",
        "\n",
        "#train fully grown Decision Tree Regressor (no max_depth)\n",
        "tree_full = DecisionTreeRegressor(random_state=42)\n",
        "tree_full.fit(X_train, y_train)\n",
        "y_pred_full = tree_full.predict(X_test)\n",
        "mse_full = mean_squared_error(y_test, y_pred_full)\n",
        "\n",
        "#print and compare results\n",
        "print(f\"Mean Squared Error with max_depth=5: {mse_limited:.4f}\")\n",
        "print(f\"Mean Squared Error with full tree: {mse_full:.4f}\")\n"
      ],
      "metadata": {
        "colab": {
          "base_uri": "https://localhost:8080/"
        },
        "id": "UG6Jc82NnMEO",
        "outputId": "838f807a-dc1a-4c59-ef02-42e6b8860c6e"
      },
      "execution_count": 18,
      "outputs": [
        {
          "output_type": "stream",
          "name": "stdout",
          "text": [
            "Mean Squared Error with max_depth=5: 0.5245\n",
            "Mean Squared Error with full tree: 0.4952\n"
          ]
        }
      ]
    },
    {
      "cell_type": "markdown",
      "source": [
        "## **Q27. Write a Python program to train a Decision Tree Classifier, apply Cost Complexity Pruning (CCP), and visualize its effect on accuracy.**"
      ],
      "metadata": {
        "id": "F2atkOKInhox"
      }
    },
    {
      "cell_type": "code",
      "source": [
        "import matplotlib.pyplot as plt\n",
        "from sklearn.datasets import load_iris\n",
        "from sklearn.tree import DecisionTreeClassifier\n",
        "from sklearn.model_selection import train_test_split\n",
        "from sklearn.metrics import accuracy_score\n",
        "\n",
        "iris = load_iris()\n",
        "X, y = iris.data, iris.target\n",
        "\n",
        "\n",
        "X_train, X_test, y_train, y_test = train_test_split(X, y, test_size=0.3, random_state=42)\n",
        "\n",
        "#train initial tree to get effective alphas\n",
        "clf = DecisionTreeClassifier(random_state=42)\n",
        "path = clf.cost_complexity_pruning_path(X_train, y_train)\n",
        "ccp_alphas = path.ccp_alphas[:-1]  # exclude the last one (trivial tree)\n",
        "\n",
        "#train trees with varying ccp_alpha\n",
        "clfs = []\n",
        "for alpha in ccp_alphas:\n",
        "    clf = DecisionTreeClassifier(random_state=42, ccp_alpha=alpha)\n",
        "    clf.fit(X_train, y_train)\n",
        "    clfs.append(clf)\n",
        "\n",
        "#Evaluate and collect test accuracies\n",
        "test_accuracies = [accuracy_score(y_test, clf.predict(X_test)) for clf in clfs]\n",
        "\n",
        "#Plot\n",
        "plt.figure(figsize=(8, 5))\n",
        "plt.plot(ccp_alphas, test_accuracies, marker='o', drawstyle=\"steps-post\")\n",
        "plt.xlabel(\"ccp_alpha (Complexity Parameter)\")\n",
        "plt.ylabel(\"Test Accuracy\")\n",
        "plt.title(\"Effect of Cost Complexity Pruning on Decision Tree Accuracy\")\n",
        "plt.grid(True)\n",
        "plt.show()\n"
      ],
      "metadata": {
        "colab": {
          "base_uri": "https://localhost:8080/",
          "height": 440
        },
        "id": "QfccAE60noQs",
        "outputId": "a1bbb246-1240-40eb-91cc-2ea55fa3ce1f"
      },
      "execution_count": 19,
      "outputs": [
        {
          "output_type": "display_data",
          "data": {
            "text/plain": [
              "<Figure size 800x500 with 1 Axes>"
            ],
            "image/png": "[encoded data removed]"
          },
          "metadata": {}
        }
      ]
    },
    {
      "cell_type": "markdown",
      "source": [
        "## **Q28.Write a Python program to train a Decision Tree Classifier and evaluate its performance using Precision, Recall, and F1-Score.**"
      ],
      "metadata": {
        "id": "hUzynX6jn6WH"
      }
    },
    {
      "cell_type": "code",
      "source": [
        "from sklearn.datasets import load_iris\n",
        "from sklearn.model_selection import train_test_split\n",
        "from sklearn.tree import DecisionTreeClassifier\n",
        "from sklearn.metrics import classification_report\n",
        "\n",
        "iris = load_iris()\n",
        "X = iris.data\n",
        "y = iris.target\n",
        "\n",
        "X_train, X_test, y_train, y_test = train_test_split(X, y, test_size=0.2, random_state=42)\n",
        "\n",
        "#train a Decision Tree Classifier\n",
        "clf = DecisionTreeClassifier(random_state=42)\n",
        "clf.fit(X_train, y_train)\n",
        "\n",
        "#predict on the test set\n",
        "y_pred = clf.predict(X_test)\n",
        "\n",
        "#Evaluate using precision, recall, and F1-score\n",
        "print(\"Classification Report:\\n\")\n",
        "print(classification_report(y_test, y_pred, target_names=iris.target_names))\n"
      ],
      "metadata": {
        "colab": {
          "base_uri": "https://localhost:8080/"
        },
        "id": "D76uEx0EoAJY",
        "outputId": "ce7f76b5-c437-4ffe-e196-2cf3938883f1"
      },
      "execution_count": 20,
      "outputs": [
        {
          "output_type": "stream",
          "name": "stdout",
          "text": [
            "Classification Report:\n",
            "\n",
            "              precision    recall  f1-score   support\n",
            "\n",
            "      setosa       1.00      1.00      1.00        10\n",
            "  versicolor       1.00      1.00      1.00         9\n",
            "   virginica       1.00      1.00      1.00        11\n",
            "\n",
            "    accuracy                           1.00        30\n",
            "   macro avg       1.00      1.00      1.00        30\n",
            "weighted avg       1.00      1.00      1.00        30\n",
            "\n"
          ]
        }
      ]
    },
    {
      "cell_type": "markdown",
      "source": [
        "## **Q29.Write a Python program to train a Decision Tree Classifier and visualize the confusion matrix using seaborn.**\n"
      ],
      "metadata": {
        "id": "c9Ro7TRKpIkx"
      }
    },
    {
      "cell_type": "code",
      "source": [
        "import seaborn as sns\n",
        "import matplotlib.pyplot as plt\n",
        "from sklearn.datasets import load_iris\n",
        "from sklearn.model_selection import train_test_split\n",
        "from sklearn.tree import DecisionTreeClassifier\n",
        "from sklearn.metrics import confusion_matrix\n",
        "\n",
        "\n",
        "iris = load_iris()\n",
        "X, y = iris.data, iris.target\n",
        "labels = iris.target_names\n",
        "\n",
        "X_train, X_test, y_train, y_test = train_test_split(X, y, test_size=0.2, random_state=42)\n",
        "\n",
        "# Train Decision Tree Classifier\n",
        "clf = DecisionTreeClassifier(random_state=42)\n",
        "clf.fit(X_train, y_train)\n",
        "\n",
        "\n",
        "y_pred = clf.predict(X_test)\n",
        "\n",
        "#compute confusion matrix\n",
        "cm = confusion_matrix(y_test, y_pred)\n",
        "\n",
        "#plot confusion matrix using seaborn\n",
        "plt.figure(figsize=(6, 4))\n",
        "sns.heatmap(cm, annot=True, fmt='d', cmap='Blues',\n",
        "            xticklabels=labels, yticklabels=labels)\n",
        "plt.xlabel('Predicted Labels')\n",
        "plt.ylabel('True Labels')\n",
        "plt.title('Confusion Matrix - Decision Tree Classifier')\n",
        "plt.tight_layout()\n",
        "plt.show()\n"
      ],
      "metadata": {
        "colab": {
          "base_uri": "https://localhost:8080/",
          "height": 407
        },
        "id": "pt1djIOPpMqi",
        "outputId": "7b24a59e-01d3-4745-e1f7-adad8568a8d2"
      },
      "execution_count": 21,
      "outputs": [
        {
          "output_type": "display_data",
          "data": {
            "text/plain": [
              "<Figure size 600x400 with 2 Axes>"
            ],
            "image/png": "[encoded data removed]"
          },
          "metadata": {}
        }
      ]
    },
    {
      "cell_type": "markdown",
      "source": [
        "## **Q30. Write a Python program to train a Decision Tree Classifier and use GridSearchCV to find the optimal values for max_depth and min_samples_split.**"
      ],
      "metadata": {
        "id": "06uTumaKrl9V"
      }
    },
    {
      "cell_type": "code",
      "source": [
        "from sklearn.datasets import load_iris\n",
        "from sklearn.tree import DecisionTreeClassifier\n",
        "from sklearn.model_selection import train_test_split, GridSearchCV\n",
        "from sklearn.metrics import accuracy_score\n",
        "\n",
        "ris = load_iris()\n",
        "X, y = iris.data, iris.target\n",
        "\n",
        "X_train, X_test, y_train, y_test = train_test_split(X, y, test_size=0.2, random_state=42)\n",
        "\n",
        "#define the model\n",
        "dtree = DecisionTreeClassifier(random_state=42)\n",
        "\n",
        "#define the parameter grid\n",
        "param_grid = {\n",
        "    'max_depth': [2, 3, 4, 5, 6, None],\n",
        "    'min_samples_split': [2, 3, 5, 10]\n",
        "}\n",
        "\n",
        "#perform Grid Search with 5-fold cross-validation\n",
        "grid_search = GridSearchCV(estimator=dtree, param_grid=param_grid, cv=5, scoring='accuracy')\n",
        "grid_search.fit(X_train, y_train)\n",
        "\n",
        "#display the best parameters\n",
        "print(\"Best Parameters:\", grid_search.best_params_)\n",
        "\n",
        "#use the best estimator to predict and evaluate\n",
        "best_model = grid_search.best_estimator_\n",
        "y_pred = best_model.predict(X_test)\n",
        "accuracy = accuracy_score(y_test, y_pred)\n",
        "print(f\"Test Accuracy: {accuracy:.4f}\")\n"
      ],
      "metadata": {
        "colab": {
          "base_uri": "https://localhost:8080/"
        },
        "id": "a2kwwLRZrvAH",
        "outputId": "cac35083-4e91-445b-bf9a-a89598fd0eb3"
      },
      "execution_count": 22,
      "outputs": [
        {
          "output_type": "stream",
          "name": "stdout",
          "text": [
            "Best Parameters: {'max_depth': 4, 'min_samples_split': 2}\n",
            "Test Accuracy: 1.0000\n"
          ]
        }
      ]
    }
  ]
}